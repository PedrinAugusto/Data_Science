{
 "cells": [
  {
   "cell_type": "code",
   "execution_count": null,
   "metadata": {
    "Collapsed": "false"
   },
   "outputs": [],
   "source": [
    "import os\n",
    "import collections\n",
    "import re\n",
    "\n",
    "import numpy as np\n",
    "import pandas as pd\n",
    "import matplotlib.pyplot as plt\n",
    "import scipy.io as sio\n"
   ]
  },
  {
   "cell_type": "code",
   "execution_count": 2,
   "metadata": {
    "Collapsed": "false"
   },
   "outputs": [],
   "source": [
    "def pretty_dict(ndict, indent=0, print_type=False):\n",
    "    \"\"\"Visualizes the tree-like structure of a dictionary\n",
    "    Arguments:\n",
    "        ndict {dict} -- [the python dictionary to be visualized]\n",
    "    Keyword Arguments:\n",
    "        indent {int} -- [number of tab spaces for the indentation]\n",
    "        (default: {0})\n",
    "        print_type {bool} -- [True if variable types are printed]\n",
    "        (default: {False})\n",
    "    \"\"\"\n",
    "    if isinstance(ndict, dict):\n",
    "        for key, value in ndict.items():\n",
    "            if print_type:\n",
    "                print(\n",
    "                    \"\\t\" * indent + \"Key: \" + str(key) + \",\\t\" + \"Type: \", type(value),\n",
    "                )\n",
    "                pretty_dict(value, indent + 1, True)\n",
    "            else:\n",
    "                print(\"\\t\" * indent + \"Key: \" + str(key))\n",
    "                pretty_dict(value, indent + 1)\n"
   ]
  },
  {
   "cell_type": "code",
   "execution_count": 3,
   "metadata": {
    "Collapsed": "false"
   },
   "outputs": [],
   "source": [
    "def mat2dict(filename):\n",
    "    \"\"\"Converts MoVi mat files to a python nested dictionary.\n",
    "    This makes a cleaner representation compared to sio.loadmat\n",
    "    Arguments:\n",
    "        filename {str} -- The path pointing to the .mat file which contains\n",
    "        MoVi style mat structs\n",
    "    Returns:\n",
    "        dict -- A nested dictionary similar to the MoVi style MATLAB struct\n",
    "    \"\"\"\n",
    "    # Reading MATLAB file\n",
    "    data = sio.loadmat(filename, struct_as_record=False, squeeze_me=True)\n",
    "\n",
    "    # Converting mat-objects to a dictionary\n",
    "    for key in data:\n",
    "        if key != \"__header__\" and key != \"__global__\" and key != \"__version__\":\n",
    "            if isinstance(data[key], sio.matlab.mio5_params.mat_struct):\n",
    "                data_out = matobj2dict(data[key])\n",
    "    return data_out"
   ]
  },
  {
   "cell_type": "code",
   "execution_count": 4,
   "metadata": {
    "Collapsed": "false"
   },
   "outputs": [],
   "source": [
    "def matobj2dict(matobj):\n",
    "    \"\"\"A recursive function which converts nested mat object\n",
    "    to a nested python dictionaries\n",
    "    Arguments:\n",
    "        matobj {sio.matlab.mio5_params.mat_struct} -- nested mat object\n",
    "    Returns:\n",
    "        dict -- a nested dictionary\n",
    "    \"\"\"\n",
    "    ndict = {}\n",
    "    for fieldname in matobj._fieldnames:\n",
    "        attr = matobj.__dict__[fieldname]\n",
    "        if isinstance(attr, sio.matlab.mio5_params.mat_struct):\n",
    "            ndict[fieldname] = matobj2dict(attr)\n",
    "        elif isinstance(attr, np.ndarray) and fieldname == \"move\":\n",
    "            for ind, val in np.ndenumerate(attr):\n",
    "                ndict[\n",
    "                    fieldname\n",
    "                    + str(ind).replace(\",\", \"\").replace(\")\", \"\").replace(\"(\", \"_\")\n",
    "                ] = matobj2dict(val)\n",
    "        elif fieldname == \"skel\":\n",
    "            tree = []\n",
    "            for ind in range(len(attr)):\n",
    "                tree.append(matobj2dict(attr[ind]))\n",
    "            ndict[fieldname] = tree\n",
    "        else:\n",
    "            ndict[fieldname] = attr\n",
    "    return ndict"
   ]
  },
  {
   "cell_type": "code",
   "execution_count": 5,
   "metadata": {
    "Collapsed": "false"
   },
   "outputs": [],
   "source": [
    "# Converting dictionary to namedTuple\n",
    "def dict2ntuple(ndict):\n",
    "    \"\"\"Converts nested (or simple) dictionary to namedTuples\n",
    "    so that the attributes are accessible by dotted notation.\n",
    "    Example: subj = mat2dicts(matefilename)\n",
    "    subj = subj('Subject_15')\n",
    "    n_subj = dict2ntuple(subj)\n",
    "    IMU = n_subj.IMU\n",
    "    Arguments:\n",
    "        ndict {dict}: python dictionary to be converted to a\n",
    "        namecTuple. Make sure all keys are made by letters or\n",
    "        underscore (key names must not by prefixed with underscore)\n",
    "    Returns:\n",
    "        namedTuple -- a nested namedTuple object\n",
    "    \"\"\"\n",
    "\n",
    "    if isinstance(ndict, collections.Mapping) and not isinstance(ndict, ProtectedDict):\n",
    "        for key, value in ndict.items():\n",
    "            ndict[key] = dict2ntuple(value)\n",
    "        return dict2tuple(ndict)\n",
    "    return ndict"
   ]
  },
  {
   "cell_type": "code",
   "execution_count": 22,
   "metadata": {
    "Collapsed": "false"
   },
   "outputs": [],
   "source": [
    "imu_filename = 'imu_Subject_1.csv'"
   ]
  },
  {
   "cell_type": "code",
   "execution_count": 23,
   "metadata": {
    "Collapsed": "false"
   },
   "outputs": [
    {
     "ename": "FileNotFoundError",
     "evalue": "[Errno 2] No such file or directory: '\\\\MoVi\\\\IMUmatlab_Subject_1_15\\\\imu_Subject_1.mat'",
     "output_type": "error",
     "traceback": [
      "\u001b[1;31m---------------------------------------------------------------------------\u001b[0m",
      "\u001b[1;31mFileNotFoundError\u001b[0m                         Traceback (most recent call last)",
      "\u001b[1;32mc:\\python38\\lib\\site-packages\\scipy\\io\\matlab\\mio.py\u001b[0m in \u001b[0;36m_open_file\u001b[1;34m(file_like, appendmat, mode)\u001b[0m\n\u001b[0;32m     38\u001b[0m     \u001b[1;32mtry\u001b[0m\u001b[1;33m:\u001b[0m\u001b[1;33m\u001b[0m\u001b[1;33m\u001b[0m\u001b[0m\n\u001b[1;32m---> 39\u001b[1;33m         \u001b[1;32mreturn\u001b[0m \u001b[0mopen\u001b[0m\u001b[1;33m(\u001b[0m\u001b[0mfile_like\u001b[0m\u001b[1;33m,\u001b[0m \u001b[0mmode\u001b[0m\u001b[1;33m)\u001b[0m\u001b[1;33m,\u001b[0m \u001b[1;32mTrue\u001b[0m\u001b[1;33m\u001b[0m\u001b[1;33m\u001b[0m\u001b[0m\n\u001b[0m\u001b[0;32m     40\u001b[0m     \u001b[1;32mexcept\u001b[0m \u001b[0mIOError\u001b[0m\u001b[1;33m:\u001b[0m\u001b[1;33m\u001b[0m\u001b[1;33m\u001b[0m\u001b[0m\n",
      "\u001b[1;31mFileNotFoundError\u001b[0m: [Errno 2] No such file or directory: '\\\\MoVi\\\\IMUmatlab_Subject_1_15\\\\imu_Subject_1.mat'",
      "\nDuring handling of the above exception, another exception occurred:\n",
      "\u001b[1;31mFileNotFoundError\u001b[0m                         Traceback (most recent call last)",
      "\u001b[1;32m<ipython-input-23-ebd2bc4b2fe3>\u001b[0m in \u001b[0;36m<module>\u001b[1;34m\u001b[0m\n\u001b[0;32m      1\u001b[0m \u001b[1;31m# Reading MoVi files as a Python dictionary\u001b[0m\u001b[1;33m\u001b[0m\u001b[1;33m\u001b[0m\u001b[1;33m\u001b[0m\u001b[0m\n\u001b[1;32m----> 2\u001b[1;33m \u001b[0msample\u001b[0m \u001b[1;33m=\u001b[0m \u001b[0mmat2dict\u001b[0m\u001b[1;33m(\u001b[0m\u001b[0mimu_filename\u001b[0m\u001b[1;33m)\u001b[0m\u001b[1;33m\u001b[0m\u001b[1;33m\u001b[0m\u001b[0m\n\u001b[0m",
      "\u001b[1;32m<ipython-input-3-1fba67890af8>\u001b[0m in \u001b[0;36mmat2dict\u001b[1;34m(filename)\u001b[0m\n\u001b[0;32m      9\u001b[0m     \"\"\"\n\u001b[0;32m     10\u001b[0m     \u001b[1;31m# Reading MATLAB file\u001b[0m\u001b[1;33m\u001b[0m\u001b[1;33m\u001b[0m\u001b[1;33m\u001b[0m\u001b[0m\n\u001b[1;32m---> 11\u001b[1;33m     \u001b[0mdata\u001b[0m \u001b[1;33m=\u001b[0m \u001b[0msio\u001b[0m\u001b[1;33m.\u001b[0m\u001b[0mloadmat\u001b[0m\u001b[1;33m(\u001b[0m\u001b[0mfilename\u001b[0m\u001b[1;33m,\u001b[0m \u001b[0mstruct_as_record\u001b[0m\u001b[1;33m=\u001b[0m\u001b[1;32mFalse\u001b[0m\u001b[1;33m,\u001b[0m \u001b[0msqueeze_me\u001b[0m\u001b[1;33m=\u001b[0m\u001b[1;32mTrue\u001b[0m\u001b[1;33m)\u001b[0m\u001b[1;33m\u001b[0m\u001b[1;33m\u001b[0m\u001b[0m\n\u001b[0m\u001b[0;32m     12\u001b[0m \u001b[1;33m\u001b[0m\u001b[0m\n\u001b[0;32m     13\u001b[0m     \u001b[1;31m# Converting mat-objects to a dictionary\u001b[0m\u001b[1;33m\u001b[0m\u001b[1;33m\u001b[0m\u001b[1;33m\u001b[0m\u001b[0m\n",
      "\u001b[1;32mc:\\python38\\lib\\site-packages\\scipy\\io\\matlab\\mio.py\u001b[0m in \u001b[0;36mloadmat\u001b[1;34m(file_name, mdict, appendmat, **kwargs)\u001b[0m\n\u001b[0;32m    214\u001b[0m     \"\"\"\n\u001b[0;32m    215\u001b[0m     \u001b[0mvariable_names\u001b[0m \u001b[1;33m=\u001b[0m \u001b[0mkwargs\u001b[0m\u001b[1;33m.\u001b[0m\u001b[0mpop\u001b[0m\u001b[1;33m(\u001b[0m\u001b[1;34m'variable_names'\u001b[0m\u001b[1;33m,\u001b[0m \u001b[1;32mNone\u001b[0m\u001b[1;33m)\u001b[0m\u001b[1;33m\u001b[0m\u001b[1;33m\u001b[0m\u001b[0m\n\u001b[1;32m--> 216\u001b[1;33m     \u001b[1;32mwith\u001b[0m \u001b[0m_open_file_context\u001b[0m\u001b[1;33m(\u001b[0m\u001b[0mfile_name\u001b[0m\u001b[1;33m,\u001b[0m \u001b[0mappendmat\u001b[0m\u001b[1;33m)\u001b[0m \u001b[1;32mas\u001b[0m \u001b[0mf\u001b[0m\u001b[1;33m:\u001b[0m\u001b[1;33m\u001b[0m\u001b[1;33m\u001b[0m\u001b[0m\n\u001b[0m\u001b[0;32m    217\u001b[0m         \u001b[0mMR\u001b[0m\u001b[1;33m,\u001b[0m \u001b[0m_\u001b[0m \u001b[1;33m=\u001b[0m \u001b[0mmat_reader_factory\u001b[0m\u001b[1;33m(\u001b[0m\u001b[0mf\u001b[0m\u001b[1;33m,\u001b[0m \u001b[1;33m**\u001b[0m\u001b[0mkwargs\u001b[0m\u001b[1;33m)\u001b[0m\u001b[1;33m\u001b[0m\u001b[1;33m\u001b[0m\u001b[0m\n\u001b[0;32m    218\u001b[0m         \u001b[0mmatfile_dict\u001b[0m \u001b[1;33m=\u001b[0m \u001b[0mMR\u001b[0m\u001b[1;33m.\u001b[0m\u001b[0mget_variables\u001b[0m\u001b[1;33m(\u001b[0m\u001b[0mvariable_names\u001b[0m\u001b[1;33m)\u001b[0m\u001b[1;33m\u001b[0m\u001b[1;33m\u001b[0m\u001b[0m\n",
      "\u001b[1;32mc:\\python38\\lib\\contextlib.py\u001b[0m in \u001b[0;36m__enter__\u001b[1;34m(self)\u001b[0m\n\u001b[0;32m    111\u001b[0m         \u001b[1;32mdel\u001b[0m \u001b[0mself\u001b[0m\u001b[1;33m.\u001b[0m\u001b[0margs\u001b[0m\u001b[1;33m,\u001b[0m \u001b[0mself\u001b[0m\u001b[1;33m.\u001b[0m\u001b[0mkwds\u001b[0m\u001b[1;33m,\u001b[0m \u001b[0mself\u001b[0m\u001b[1;33m.\u001b[0m\u001b[0mfunc\u001b[0m\u001b[1;33m\u001b[0m\u001b[1;33m\u001b[0m\u001b[0m\n\u001b[0;32m    112\u001b[0m         \u001b[1;32mtry\u001b[0m\u001b[1;33m:\u001b[0m\u001b[1;33m\u001b[0m\u001b[1;33m\u001b[0m\u001b[0m\n\u001b[1;32m--> 113\u001b[1;33m             \u001b[1;32mreturn\u001b[0m \u001b[0mnext\u001b[0m\u001b[1;33m(\u001b[0m\u001b[0mself\u001b[0m\u001b[1;33m.\u001b[0m\u001b[0mgen\u001b[0m\u001b[1;33m)\u001b[0m\u001b[1;33m\u001b[0m\u001b[1;33m\u001b[0m\u001b[0m\n\u001b[0m\u001b[0;32m    114\u001b[0m         \u001b[1;32mexcept\u001b[0m \u001b[0mStopIteration\u001b[0m\u001b[1;33m:\u001b[0m\u001b[1;33m\u001b[0m\u001b[1;33m\u001b[0m\u001b[0m\n\u001b[0;32m    115\u001b[0m             \u001b[1;32mraise\u001b[0m \u001b[0mRuntimeError\u001b[0m\u001b[1;33m(\u001b[0m\u001b[1;34m\"generator didn't yield\"\u001b[0m\u001b[1;33m)\u001b[0m \u001b[1;32mfrom\u001b[0m \u001b[1;32mNone\u001b[0m\u001b[1;33m\u001b[0m\u001b[1;33m\u001b[0m\u001b[0m\n",
      "\u001b[1;32mc:\\python38\\lib\\site-packages\\scipy\\io\\matlab\\mio.py\u001b[0m in \u001b[0;36m_open_file_context\u001b[1;34m(file_like, appendmat, mode)\u001b[0m\n\u001b[0;32m     17\u001b[0m \u001b[1;33m@\u001b[0m\u001b[0mcontextmanager\u001b[0m\u001b[1;33m\u001b[0m\u001b[1;33m\u001b[0m\u001b[0m\n\u001b[0;32m     18\u001b[0m \u001b[1;32mdef\u001b[0m \u001b[0m_open_file_context\u001b[0m\u001b[1;33m(\u001b[0m\u001b[0mfile_like\u001b[0m\u001b[1;33m,\u001b[0m \u001b[0mappendmat\u001b[0m\u001b[1;33m,\u001b[0m \u001b[0mmode\u001b[0m\u001b[1;33m=\u001b[0m\u001b[1;34m'rb'\u001b[0m\u001b[1;33m)\u001b[0m\u001b[1;33m:\u001b[0m\u001b[1;33m\u001b[0m\u001b[1;33m\u001b[0m\u001b[0m\n\u001b[1;32m---> 19\u001b[1;33m     \u001b[0mf\u001b[0m\u001b[1;33m,\u001b[0m \u001b[0mopened\u001b[0m \u001b[1;33m=\u001b[0m \u001b[0m_open_file\u001b[0m\u001b[1;33m(\u001b[0m\u001b[0mfile_like\u001b[0m\u001b[1;33m,\u001b[0m \u001b[0mappendmat\u001b[0m\u001b[1;33m,\u001b[0m \u001b[0mmode\u001b[0m\u001b[1;33m)\u001b[0m\u001b[1;33m\u001b[0m\u001b[1;33m\u001b[0m\u001b[0m\n\u001b[0m\u001b[0;32m     20\u001b[0m     \u001b[1;32myield\u001b[0m \u001b[0mf\u001b[0m\u001b[1;33m\u001b[0m\u001b[1;33m\u001b[0m\u001b[0m\n\u001b[0;32m     21\u001b[0m     \u001b[1;32mif\u001b[0m \u001b[0mopened\u001b[0m\u001b[1;33m:\u001b[0m\u001b[1;33m\u001b[0m\u001b[1;33m\u001b[0m\u001b[0m\n",
      "\u001b[1;32mc:\\python38\\lib\\site-packages\\scipy\\io\\matlab\\mio.py\u001b[0m in \u001b[0;36m_open_file\u001b[1;34m(file_like, appendmat, mode)\u001b[0m\n\u001b[0;32m     43\u001b[0m             \u001b[1;32mif\u001b[0m \u001b[0mappendmat\u001b[0m \u001b[1;32mand\u001b[0m \u001b[1;32mnot\u001b[0m \u001b[0mfile_like\u001b[0m\u001b[1;33m.\u001b[0m\u001b[0mendswith\u001b[0m\u001b[1;33m(\u001b[0m\u001b[1;34m'.mat'\u001b[0m\u001b[1;33m)\u001b[0m\u001b[1;33m:\u001b[0m\u001b[1;33m\u001b[0m\u001b[1;33m\u001b[0m\u001b[0m\n\u001b[0;32m     44\u001b[0m                 \u001b[0mfile_like\u001b[0m \u001b[1;33m+=\u001b[0m \u001b[1;34m'.mat'\u001b[0m\u001b[1;33m\u001b[0m\u001b[1;33m\u001b[0m\u001b[0m\n\u001b[1;32m---> 45\u001b[1;33m             \u001b[1;32mreturn\u001b[0m \u001b[0mopen\u001b[0m\u001b[1;33m(\u001b[0m\u001b[0mfile_like\u001b[0m\u001b[1;33m,\u001b[0m \u001b[0mmode\u001b[0m\u001b[1;33m)\u001b[0m\u001b[1;33m,\u001b[0m \u001b[1;32mTrue\u001b[0m\u001b[1;33m\u001b[0m\u001b[1;33m\u001b[0m\u001b[0m\n\u001b[0m\u001b[0;32m     46\u001b[0m         \u001b[1;32melse\u001b[0m\u001b[1;33m:\u001b[0m\u001b[1;33m\u001b[0m\u001b[1;33m\u001b[0m\u001b[0m\n\u001b[0;32m     47\u001b[0m             \u001b[1;32mraise\u001b[0m \u001b[0mIOError\u001b[0m\u001b[1;33m(\u001b[0m\u001b[1;34m'Reader needs file name or open file-like object'\u001b[0m\u001b[1;33m)\u001b[0m\u001b[1;33m\u001b[0m\u001b[1;33m\u001b[0m\u001b[0m\n",
      "\u001b[1;31mFileNotFoundError\u001b[0m: [Errno 2] No such file or directory: '\\\\MoVi\\\\IMUmatlab_Subject_1_15\\\\imu_Subject_1.mat'"
     ]
    }
   ],
   "source": [
    "# Reading MoVi files as a Python dictionary\n",
    "sample = mat2dict(imu_filename)"
   ]
  },
  {
   "cell_type": "code",
   "execution_count": 9,
   "metadata": {
    "Collapsed": "false"
   },
   "outputs": [
    {
     "data": {
      "text/plain": [
       "dict_keys(['S1_Synched', 'S2_Synched', 'I1', 'I2', 'S1', 'S2'])"
      ]
     },
     "execution_count": 9,
     "metadata": {},
     "output_type": "execute_result"
    }
   ],
   "source": [
    "sample.keys()"
   ]
  },
  {
   "cell_type": "code",
   "execution_count": 10,
   "metadata": {
    "Collapsed": "false"
   },
   "outputs": [
    {
     "name": "stdout",
     "output_type": "stream",
     "text": [
      "\tKey: S1_Synched\n",
      "\t\tKey: originalFile\n",
      "\t\tKey: description\n",
      "\t\tKey: jointNumbers\n",
      "\t\tKey: jointNames\n",
      "\t\tKey: dataTypes\n",
      "\t\tKey: dataTypesDescription\n",
      "\t\tKey: dataHeader\n",
      "\t\tKey: data\n",
      "\t\tKey: delay\n",
      "\t\tKey: scale\n",
      "\tKey: S2_Synched\n",
      "\t\tKey: originalFile\n",
      "\t\tKey: description\n",
      "\t\tKey: jointNumbers\n",
      "\t\tKey: jointNames\n",
      "\t\tKey: dataTypes\n",
      "\t\tKey: dataTypesDescription\n",
      "\t\tKey: dataHeader\n",
      "\t\tKey: data\n",
      "\t\tKey: delay\n",
      "\t\tKey: scale\n",
      "\tKey: I1\n",
      "\t\tKey: originalFile\n",
      "\t\tKey: description\n",
      "\t\tKey: jointNumbers\n",
      "\t\tKey: jointNames\n",
      "\t\tKey: dataTypes\n",
      "\t\tKey: dataTypesDescription\n",
      "\t\tKey: dataHeader\n",
      "\t\tKey: data\n",
      "\tKey: I2\n",
      "\t\tKey: originalFile\n",
      "\t\tKey: description\n",
      "\t\tKey: jointNumbers\n",
      "\t\tKey: jointNames\n",
      "\t\tKey: dataTypes\n",
      "\t\tKey: dataTypesDescription\n",
      "\t\tKey: dataHeader\n",
      "\t\tKey: data\n",
      "\tKey: S1\n",
      "\t\tKey: originalFile\n",
      "\t\tKey: description\n",
      "\t\tKey: jointNumbers\n",
      "\t\tKey: jointNames\n",
      "\t\tKey: dataTypes\n",
      "\t\tKey: dataTypesDescription\n",
      "\t\tKey: dataHeader\n",
      "\t\tKey: data\n",
      "\tKey: S2\n",
      "\t\tKey: originalFile\n",
      "\t\tKey: description\n",
      "\t\tKey: jointNumbers\n",
      "\t\tKey: jointNames\n",
      "\t\tKey: dataTypes\n",
      "\t\tKey: dataTypesDescription\n",
      "\t\tKey: dataHeader\n",
      "\t\tKey: data\n"
     ]
    }
   ],
   "source": [
    "pretty_dict(sample, print_type=False, indent=1)"
   ]
  },
  {
   "cell_type": "code",
   "execution_count": 11,
   "metadata": {
    "Collapsed": "false"
   },
   "outputs": [
    {
     "data": {
      "text/plain": [
       "array(['Hip', 'RightUpLeg', 'RightLeg', 'RightFoot', 'LeftUpLeg',\n",
       "       'LeftLeg', 'LeftFoot', 'RightShoulder', 'RightArm', 'RightForeArm',\n",
       "       'RightHand', 'LeftShoulder', 'LeftArm', 'LeftForeArm', 'LeftHand',\n",
       "       'Head', 'Neck', 'Spine3', 'Spine2', 'Spine1', 'Spine'],\n",
       "      dtype=object)"
      ]
     },
     "execution_count": 11,
     "metadata": {},
     "output_type": "execute_result"
    }
   ],
   "source": [
    "# Nome das juntas onde estão os sensores\n",
    "sample['S2_Synched']['jointNames']"
   ]
  },
  {
   "cell_type": "code",
   "execution_count": 12,
   "metadata": {
    "Collapsed": "false"
   },
   "outputs": [
    {
     "data": {
      "text/plain": [
       "array(['01', '02', '03', '04', '05', '06', '07', '08', '09', '10', '11',\n",
       "       '12', '13', '14', '15', '16', '17', '18', '19', '20', '21'],\n",
       "      dtype=object)"
      ]
     },
     "execution_count": 12,
     "metadata": {},
     "output_type": "execute_result"
    }
   ],
   "source": [
    "# Número das juntas onde estão os sensores\n",
    "sample['S2_Synched']['jointNumbers']"
   ]
  },
  {
   "cell_type": "code",
   "execution_count": 13,
   "metadata": {
    "Collapsed": "false"
   },
   "outputs": [
    {
     "name": "stdout",
     "output_type": "stream",
     "text": [
      "['X' 'V' 'Q' 'A' 'W']\n",
      "['Displacement(meter)'],['Speed (meter per second)'],['Posture data (Quaternions)'],(['Acceleration (g)']\n",
      "['Angular velocity (radian per second)']\n"
     ]
    }
   ],
   "source": [
    "# Tipos de dados para cada sensor\n",
    "print(sample['S2_Synched']['dataTypes'])\n",
    "print(\"['Displacement(meter)'],['Speed (meter per second)'],['Posture data (Quaternions)'],(['Acceleration (g)']\")\n",
    "print(\"['Angular velocity (radian per second)']\")"
   ]
  },
  {
   "cell_type": "code",
   "execution_count": 14,
   "metadata": {
    "Collapsed": "false"
   },
   "outputs": [],
   "source": [
    "Data = sample['S2_Synched']['data']"
   ]
  },
  {
   "cell_type": "code",
   "execution_count": 15,
   "metadata": {
    "Collapsed": "false"
   },
   "outputs": [
    {
     "name": "stdout",
     "output_type": "stream",
     "text": [
      "\tKey: __header__\n",
      "\tKey: __version__\n",
      "\tKey: __globals__\n",
      "\tKey: None\n",
      "\tKey: __function_workspace__\n"
     ]
    }
   ],
   "source": [
    "dataHeader_filename = 'dataHeader.mat'\n",
    "dataHeader = sio.loadmat(dataHeader_filename)\n",
    "pretty_dict(dataHeader, print_type=False, indent=1)"
   ]
  },
  {
   "cell_type": "code",
   "execution_count": 16,
   "metadata": {
    "Collapsed": "false"
   },
   "outputs": [
    {
     "data": {
      "text/plain": [
       "MatlabOpaque([(b'x', b'MCOS', b'string', array([[3707764736],\n",
       "       [         2],\n",
       "       [         1],\n",
       "       [         1],\n",
       "       [         1],\n",
       "       [         1]], dtype=uint32))],\n",
       "             dtype=[('s0', 'O'), ('s1', 'O'), ('s2', 'O'), ('arr', 'O')])"
      ]
     },
     "execution_count": 16,
     "metadata": {},
     "output_type": "execute_result"
    }
   ],
   "source": [
    "dataHeader['None']"
   ]
  },
  {
   "cell_type": "code",
   "execution_count": 17,
   "metadata": {
    "Collapsed": "false"
   },
   "outputs": [],
   "source": [
    "header = pd.read_csv('columns.csv', sep=';')\n",
    "header = header[:].values.tolist()"
   ]
  },
  {
   "cell_type": "code",
   "execution_count": 18,
   "metadata": {
    "Collapsed": "false"
   },
   "outputs": [
    {
     "data": {
      "text/html": [
       "<div>\n",
       "<style scoped>\n",
       "    .dataframe tbody tr th:only-of-type {\n",
       "        vertical-align: middle;\n",
       "    }\n",
       "\n",
       "    .dataframe tbody tr th {\n",
       "        vertical-align: top;\n",
       "    }\n",
       "\n",
       "    .dataframe thead tr th {\n",
       "        text-align: left;\n",
       "    }\n",
       "</style>\n",
       "<table border=\"1\" class=\"dataframe\">\n",
       "  <thead>\n",
       "    <tr>\n",
       "      <th></th>\n",
       "      <th>01-X-x</th>\n",
       "      <th>01-X-y</th>\n",
       "      <th>01-X-z</th>\n",
       "      <th>01-V-x</th>\n",
       "      <th>01-V-y</th>\n",
       "      <th>01-V-z</th>\n",
       "      <th>01-Q-s</th>\n",
       "      <th>01-Q-x</th>\n",
       "      <th>01-Q-y</th>\n",
       "      <th>01-Q-z</th>\n",
       "      <th>...</th>\n",
       "      <th>21-Q-s</th>\n",
       "      <th>21-Q-x</th>\n",
       "      <th>21-Q-y</th>\n",
       "      <th>21-Q-z</th>\n",
       "      <th>21-A-x</th>\n",
       "      <th>21-A-y</th>\n",
       "      <th>21-A-z</th>\n",
       "      <th>21-W-x</th>\n",
       "      <th>21-W-y</th>\n",
       "      <th>21-W-z</th>\n",
       "    </tr>\n",
       "  </thead>\n",
       "  <tbody>\n",
       "    <tr>\n",
       "      <th>0</th>\n",
       "      <td>0.031078</td>\n",
       "      <td>0.056503</td>\n",
       "      <td>-0.0118</td>\n",
       "      <td>-0.011616</td>\n",
       "      <td>0.000556</td>\n",
       "      <td>0.007377</td>\n",
       "      <td>-0.123424</td>\n",
       "      <td>0.705</td>\n",
       "      <td>0.137418</td>\n",
       "      <td>0.684787</td>\n",
       "      <td>...</td>\n",
       "      <td>1.0</td>\n",
       "      <td>0.0</td>\n",
       "      <td>0.0</td>\n",
       "      <td>0.0</td>\n",
       "      <td>-0.981378</td>\n",
       "      <td>0.003906</td>\n",
       "      <td>0.237357</td>\n",
       "      <td>-0.016800</td>\n",
       "      <td>1.577233e-12</td>\n",
       "      <td>0.001291</td>\n",
       "    </tr>\n",
       "    <tr>\n",
       "      <th>1</th>\n",
       "      <td>0.030993</td>\n",
       "      <td>0.056499</td>\n",
       "      <td>-0.0118</td>\n",
       "      <td>-0.012510</td>\n",
       "      <td>0.001541</td>\n",
       "      <td>0.007329</td>\n",
       "      <td>-0.123510</td>\n",
       "      <td>0.705</td>\n",
       "      <td>0.137535</td>\n",
       "      <td>0.684687</td>\n",
       "      <td>...</td>\n",
       "      <td>1.0</td>\n",
       "      <td>0.0</td>\n",
       "      <td>0.0</td>\n",
       "      <td>0.0</td>\n",
       "      <td>-0.985008</td>\n",
       "      <td>0.003877</td>\n",
       "      <td>0.234089</td>\n",
       "      <td>-0.018674</td>\n",
       "      <td>-4.283233e-13</td>\n",
       "      <td>-0.005389</td>\n",
       "    </tr>\n",
       "    <tr>\n",
       "      <th>2</th>\n",
       "      <td>0.030984</td>\n",
       "      <td>0.056501</td>\n",
       "      <td>-0.0118</td>\n",
       "      <td>-0.013123</td>\n",
       "      <td>0.002509</td>\n",
       "      <td>0.007103</td>\n",
       "      <td>-0.123497</td>\n",
       "      <td>0.705</td>\n",
       "      <td>0.137608</td>\n",
       "      <td>0.684704</td>\n",
       "      <td>...</td>\n",
       "      <td>1.0</td>\n",
       "      <td>0.0</td>\n",
       "      <td>0.0</td>\n",
       "      <td>0.0</td>\n",
       "      <td>-0.983369</td>\n",
       "      <td>0.003989</td>\n",
       "      <td>0.234174</td>\n",
       "      <td>-0.012947</td>\n",
       "      <td>1.161375e-13</td>\n",
       "      <td>-0.014780</td>\n",
       "    </tr>\n",
       "    <tr>\n",
       "      <th>3</th>\n",
       "      <td>0.030861</td>\n",
       "      <td>0.056498</td>\n",
       "      <td>-0.0118</td>\n",
       "      <td>-0.012298</td>\n",
       "      <td>-0.001319</td>\n",
       "      <td>0.007391</td>\n",
       "      <td>-0.123500</td>\n",
       "      <td>0.705</td>\n",
       "      <td>0.137598</td>\n",
       "      <td>0.684699</td>\n",
       "      <td>...</td>\n",
       "      <td>1.0</td>\n",
       "      <td>0.0</td>\n",
       "      <td>0.0</td>\n",
       "      <td>0.0</td>\n",
       "      <td>-0.979803</td>\n",
       "      <td>0.003554</td>\n",
       "      <td>0.235767</td>\n",
       "      <td>0.001808</td>\n",
       "      <td>-3.144365e-14</td>\n",
       "      <td>0.002313</td>\n",
       "    </tr>\n",
       "    <tr>\n",
       "      <th>4</th>\n",
       "      <td>0.030797</td>\n",
       "      <td>0.056507</td>\n",
       "      <td>-0.0118</td>\n",
       "      <td>-0.013124</td>\n",
       "      <td>0.000015</td>\n",
       "      <td>0.007484</td>\n",
       "      <td>-0.123502</td>\n",
       "      <td>0.705</td>\n",
       "      <td>0.137601</td>\n",
       "      <td>0.684700</td>\n",
       "      <td>...</td>\n",
       "      <td>1.0</td>\n",
       "      <td>0.0</td>\n",
       "      <td>0.0</td>\n",
       "      <td>0.0</td>\n",
       "      <td>-0.981956</td>\n",
       "      <td>0.005350</td>\n",
       "      <td>0.237266</td>\n",
       "      <td>-0.000481</td>\n",
       "      <td>8.501267e-15</td>\n",
       "      <td>-0.000654</td>\n",
       "    </tr>\n",
       "  </tbody>\n",
       "</table>\n",
       "<p>5 rows × 336 columns</p>\n",
       "</div>"
      ],
      "text/plain": [
       "     01-X-x    01-X-y  01-X-z    01-V-x    01-V-y    01-V-z    01-Q-s 01-Q-x  \\\n",
       "0  0.031078  0.056503 -0.0118 -0.011616  0.000556  0.007377 -0.123424  0.705   \n",
       "1  0.030993  0.056499 -0.0118 -0.012510  0.001541  0.007329 -0.123510  0.705   \n",
       "2  0.030984  0.056501 -0.0118 -0.013123  0.002509  0.007103 -0.123497  0.705   \n",
       "3  0.030861  0.056498 -0.0118 -0.012298 -0.001319  0.007391 -0.123500  0.705   \n",
       "4  0.030797  0.056507 -0.0118 -0.013124  0.000015  0.007484 -0.123502  0.705   \n",
       "\n",
       "     01-Q-y    01-Q-z  ... 21-Q-s 21-Q-x 21-Q-y 21-Q-z    21-A-x    21-A-y  \\\n",
       "0  0.137418  0.684787  ...    1.0    0.0    0.0    0.0 -0.981378  0.003906   \n",
       "1  0.137535  0.684687  ...    1.0    0.0    0.0    0.0 -0.985008  0.003877   \n",
       "2  0.137608  0.684704  ...    1.0    0.0    0.0    0.0 -0.983369  0.003989   \n",
       "3  0.137598  0.684699  ...    1.0    0.0    0.0    0.0 -0.979803  0.003554   \n",
       "4  0.137601  0.684700  ...    1.0    0.0    0.0    0.0 -0.981956  0.005350   \n",
       "\n",
       "     21-A-z    21-W-x        21-W-y    21-W-z  \n",
       "0  0.237357 -0.016800  1.577233e-12  0.001291  \n",
       "1  0.234089 -0.018674 -4.283233e-13 -0.005389  \n",
       "2  0.234174 -0.012947  1.161375e-13 -0.014780  \n",
       "3  0.235767  0.001808 -3.144365e-14  0.002313  \n",
       "4  0.237266 -0.000481  8.501267e-15 -0.000654  \n",
       "\n",
       "[5 rows x 336 columns]"
      ]
     },
     "execution_count": 18,
     "metadata": {},
     "output_type": "execute_result"
    }
   ],
   "source": [
    "data = pd.DataFrame(Data, columns=header)\n",
    "data.head()"
   ]
  },
  {
   "cell_type": "code",
   "execution_count": 19,
   "metadata": {
    "Collapsed": "false"
   },
   "outputs": [
    {
     "data": {
      "text/html": [
       "<div>\n",
       "<style scoped>\n",
       "    .dataframe tbody tr th:only-of-type {\n",
       "        vertical-align: middle;\n",
       "    }\n",
       "\n",
       "    .dataframe tbody tr th {\n",
       "        vertical-align: top;\n",
       "    }\n",
       "\n",
       "    .dataframe thead tr th {\n",
       "        text-align: left;\n",
       "    }\n",
       "</style>\n",
       "<table border=\"1\" class=\"dataframe\">\n",
       "  <thead>\n",
       "    <tr>\n",
       "      <th></th>\n",
       "      <th>01-X-x</th>\n",
       "      <th>01-X-y</th>\n",
       "      <th>01-X-z</th>\n",
       "      <th>01-V-x</th>\n",
       "      <th>01-V-y</th>\n",
       "      <th>01-V-z</th>\n",
       "      <th>01-Q-s</th>\n",
       "      <th>01-Q-x</th>\n",
       "      <th>01-Q-y</th>\n",
       "      <th>01-Q-z</th>\n",
       "      <th>01-A-x</th>\n",
       "      <th>01-A-y</th>\n",
       "      <th>01-A-z</th>\n",
       "      <th>01-W-x</th>\n",
       "      <th>01-W-y</th>\n",
       "      <th>01-W-z</th>\n",
       "    </tr>\n",
       "  </thead>\n",
       "  <tbody>\n",
       "    <tr>\n",
       "      <th>500</th>\n",
       "      <td>0.021125</td>\n",
       "      <td>0.050423</td>\n",
       "      <td>-0.012470</td>\n",
       "      <td>0.001051</td>\n",
       "      <td>0.003724</td>\n",
       "      <td>0.007532</td>\n",
       "      <td>-0.121388</td>\n",
       "      <td>0.709799</td>\n",
       "      <td>0.136588</td>\n",
       "      <td>0.680302</td>\n",
       "      <td>-0.984813</td>\n",
       "      <td>0.002748</td>\n",
       "      <td>0.219240</td>\n",
       "      <td>3.047638e-10</td>\n",
       "      <td>-0.017171</td>\n",
       "      <td>-0.000596</td>\n",
       "    </tr>\n",
       "    <tr>\n",
       "      <th>501</th>\n",
       "      <td>0.021204</td>\n",
       "      <td>0.050512</td>\n",
       "      <td>-0.012415</td>\n",
       "      <td>0.000837</td>\n",
       "      <td>0.003683</td>\n",
       "      <td>0.007374</td>\n",
       "      <td>-0.121403</td>\n",
       "      <td>0.709806</td>\n",
       "      <td>0.136602</td>\n",
       "      <td>0.680294</td>\n",
       "      <td>-0.984486</td>\n",
       "      <td>0.000575</td>\n",
       "      <td>0.218403</td>\n",
       "      <td>-8.294836e-11</td>\n",
       "      <td>-0.018818</td>\n",
       "      <td>0.000162</td>\n",
       "    </tr>\n",
       "    <tr>\n",
       "      <th>502</th>\n",
       "      <td>0.021223</td>\n",
       "      <td>0.050491</td>\n",
       "      <td>-0.012513</td>\n",
       "      <td>0.002077</td>\n",
       "      <td>0.004584</td>\n",
       "      <td>0.007244</td>\n",
       "      <td>-0.121399</td>\n",
       "      <td>0.709774</td>\n",
       "      <td>0.136605</td>\n",
       "      <td>0.680326</td>\n",
       "      <td>-0.983515</td>\n",
       "      <td>0.004386</td>\n",
       "      <td>0.220079</td>\n",
       "      <td>2.320634e-11</td>\n",
       "      <td>-0.011961</td>\n",
       "      <td>-0.000044</td>\n",
       "    </tr>\n",
       "    <tr>\n",
       "      <th>503</th>\n",
       "      <td>0.021313</td>\n",
       "      <td>0.050528</td>\n",
       "      <td>-0.012497</td>\n",
       "      <td>0.003836</td>\n",
       "      <td>0.004523</td>\n",
       "      <td>0.007295</td>\n",
       "      <td>-0.121401</td>\n",
       "      <td>0.709690</td>\n",
       "      <td>0.136573</td>\n",
       "      <td>0.680410</td>\n",
       "      <td>-0.979746</td>\n",
       "      <td>0.003849</td>\n",
       "      <td>0.222048</td>\n",
       "      <td>-9.047347e-12</td>\n",
       "      <td>-0.002591</td>\n",
       "      <td>0.000012</td>\n",
       "    </tr>\n",
       "    <tr>\n",
       "      <th>504</th>\n",
       "      <td>0.021290</td>\n",
       "      <td>0.050610</td>\n",
       "      <td>-0.012499</td>\n",
       "      <td>0.000600</td>\n",
       "      <td>0.003618</td>\n",
       "      <td>0.007659</td>\n",
       "      <td>-0.121398</td>\n",
       "      <td>0.709703</td>\n",
       "      <td>0.136489</td>\n",
       "      <td>0.680397</td>\n",
       "      <td>-0.982037</td>\n",
       "      <td>0.003604</td>\n",
       "      <td>0.218284</td>\n",
       "      <td>1.311203e-11</td>\n",
       "      <td>-0.020995</td>\n",
       "      <td>-0.000003</td>\n",
       "    </tr>\n",
       "  </tbody>\n",
       "</table>\n",
       "</div>"
      ],
      "text/plain": [
       "       01-X-x    01-X-y    01-X-z    01-V-x    01-V-y    01-V-z    01-Q-s  \\\n",
       "500  0.021125  0.050423 -0.012470  0.001051  0.003724  0.007532 -0.121388   \n",
       "501  0.021204  0.050512 -0.012415  0.000837  0.003683  0.007374 -0.121403   \n",
       "502  0.021223  0.050491 -0.012513  0.002077  0.004584  0.007244 -0.121399   \n",
       "503  0.021313  0.050528 -0.012497  0.003836  0.004523  0.007295 -0.121401   \n",
       "504  0.021290  0.050610 -0.012499  0.000600  0.003618  0.007659 -0.121398   \n",
       "\n",
       "       01-Q-x    01-Q-y    01-Q-z    01-A-x    01-A-y    01-A-z        01-W-x  \\\n",
       "500  0.709799  0.136588  0.680302 -0.984813  0.002748  0.219240  3.047638e-10   \n",
       "501  0.709806  0.136602  0.680294 -0.984486  0.000575  0.218403 -8.294836e-11   \n",
       "502  0.709774  0.136605  0.680326 -0.983515  0.004386  0.220079  2.320634e-11   \n",
       "503  0.709690  0.136573  0.680410 -0.979746  0.003849  0.222048 -9.047347e-12   \n",
       "504  0.709703  0.136489  0.680397 -0.982037  0.003604  0.218284  1.311203e-11   \n",
       "\n",
       "       01-W-y    01-W-z  \n",
       "500 -0.017171 -0.000596  \n",
       "501 -0.018818  0.000162  \n",
       "502 -0.011961 -0.000044  \n",
       "503 -0.002591  0.000012  \n",
       "504 -0.020995 -0.000003  "
      ]
     },
     "execution_count": 19,
     "metadata": {},
     "output_type": "execute_result"
    }
   ],
   "source": [
    "data_01 = data.iloc[500:1200,:16]\n",
    "data_01.head()"
   ]
  },
  {
   "cell_type": "code",
   "execution_count": 20,
   "metadata": {
    "Collapsed": "false"
   },
   "outputs": [
    {
     "data": {
      "image/png": "[encoded data removed]",
      "text/plain": [
       "<Figure size 432x288 with 1 Axes>"
      ]
     },
     "metadata": {
      "needs_background": "light"
     },
     "output_type": "display_data"
    }
   ],
   "source": [
    "plt.plot(data_01.index, data_01.values)\n",
    "plt.grid()\n",
    "plt.show()"
   ]
  },
  {
   "cell_type": "code",
   "execution_count": 21,
   "metadata": {
    "Collapsed": "false"
   },
   "outputs": [
    {
     "data": {
      "text/html": [
       "<div>\n",
       "<style scoped>\n",
       "    .dataframe tbody tr th:only-of-type {\n",
       "        vertical-align: middle;\n",
       "    }\n",
       "\n",
       "    .dataframe tbody tr th {\n",
       "        vertical-align: top;\n",
       "    }\n",
       "\n",
       "    .dataframe thead tr th {\n",
       "        text-align: left;\n",
       "    }\n",
       "</style>\n",
       "<table border=\"1\" class=\"dataframe\">\n",
       "  <thead>\n",
       "    <tr>\n",
       "      <th></th>\n",
       "      <th>01-X-x</th>\n",
       "      <th>01-X-y</th>\n",
       "      <th>01-X-z</th>\n",
       "    </tr>\n",
       "  </thead>\n",
       "  <tbody>\n",
       "    <tr>\n",
       "      <th>500</th>\n",
       "      <td>0.021125</td>\n",
       "      <td>0.050423</td>\n",
       "      <td>-0.012470</td>\n",
       "    </tr>\n",
       "    <tr>\n",
       "      <th>501</th>\n",
       "      <td>0.021204</td>\n",
       "      <td>0.050512</td>\n",
       "      <td>-0.012415</td>\n",
       "    </tr>\n",
       "    <tr>\n",
       "      <th>502</th>\n",
       "      <td>0.021223</td>\n",
       "      <td>0.050491</td>\n",
       "      <td>-0.012513</td>\n",
       "    </tr>\n",
       "    <tr>\n",
       "      <th>503</th>\n",
       "      <td>0.021313</td>\n",
       "      <td>0.050528</td>\n",
       "      <td>-0.012497</td>\n",
       "    </tr>\n",
       "    <tr>\n",
       "      <th>504</th>\n",
       "      <td>0.021290</td>\n",
       "      <td>0.050610</td>\n",
       "      <td>-0.012499</td>\n",
       "    </tr>\n",
       "  </tbody>\n",
       "</table>\n",
       "</div>"
      ],
      "text/plain": [
       "       01-X-x    01-X-y    01-X-z\n",
       "500  0.021125  0.050423 -0.012470\n",
       "501  0.021204  0.050512 -0.012415\n",
       "502  0.021223  0.050491 -0.012513\n",
       "503  0.021313  0.050528 -0.012497\n",
       "504  0.021290  0.050610 -0.012499"
      ]
     },
     "execution_count": 21,
     "metadata": {},
     "output_type": "execute_result"
    }
   ],
   "source": [
    "data_01_X = data.iloc[500:1200,:3]\n",
    "data_01_X.head()"
   ]
  },
  {
   "cell_type": "code",
   "execution_count": 22,
   "metadata": {
    "Collapsed": "false"
   },
   "outputs": [
    {
     "data": {
      "image/png": "[encoded data removed]",
      "text/plain": [
       "<Figure size 432x288 with 1 Axes>"
      ]
     },
     "metadata": {
      "needs_background": "light"
     },
     "output_type": "display_data"
    }
   ],
   "source": [
    "plt.plot(data_01_X.index, data_01_X.values)\n",
    "plt.grid()\n",
    "plt.legend(('01-X-x',\n",
    "  '01-X-y',\n",
    "  '01-X-z'))\n",
    "plt.show()"
   ]
  },
  {
   "cell_type": "code",
   "execution_count": 23,
   "metadata": {
    "Collapsed": "false"
   },
   "outputs": [
    {
     "data": {
      "text/html": [
       "<div>\n",
       "<style scoped>\n",
       "    .dataframe tbody tr th:only-of-type {\n",
       "        vertical-align: middle;\n",
       "    }\n",
       "\n",
       "    .dataframe tbody tr th {\n",
       "        vertical-align: top;\n",
       "    }\n",
       "\n",
       "    .dataframe thead tr th {\n",
       "        text-align: left;\n",
       "    }\n",
       "</style>\n",
       "<table border=\"1\" class=\"dataframe\">\n",
       "  <thead>\n",
       "    <tr>\n",
       "      <th></th>\n",
       "      <th>01-V-x</th>\n",
       "      <th>01-V-y</th>\n",
       "      <th>01-V-z</th>\n",
       "    </tr>\n",
       "  </thead>\n",
       "  <tbody>\n",
       "    <tr>\n",
       "      <th>500</th>\n",
       "      <td>0.001051</td>\n",
       "      <td>0.003724</td>\n",
       "      <td>0.007532</td>\n",
       "    </tr>\n",
       "    <tr>\n",
       "      <th>501</th>\n",
       "      <td>0.000837</td>\n",
       "      <td>0.003683</td>\n",
       "      <td>0.007374</td>\n",
       "    </tr>\n",
       "    <tr>\n",
       "      <th>502</th>\n",
       "      <td>0.002077</td>\n",
       "      <td>0.004584</td>\n",
       "      <td>0.007244</td>\n",
       "    </tr>\n",
       "    <tr>\n",
       "      <th>503</th>\n",
       "      <td>0.003836</td>\n",
       "      <td>0.004523</td>\n",
       "      <td>0.007295</td>\n",
       "    </tr>\n",
       "    <tr>\n",
       "      <th>504</th>\n",
       "      <td>0.000600</td>\n",
       "      <td>0.003618</td>\n",
       "      <td>0.007659</td>\n",
       "    </tr>\n",
       "  </tbody>\n",
       "</table>\n",
       "</div>"
      ],
      "text/plain": [
       "       01-V-x    01-V-y    01-V-z\n",
       "500  0.001051  0.003724  0.007532\n",
       "501  0.000837  0.003683  0.007374\n",
       "502  0.002077  0.004584  0.007244\n",
       "503  0.003836  0.004523  0.007295\n",
       "504  0.000600  0.003618  0.007659"
      ]
     },
     "execution_count": 23,
     "metadata": {},
     "output_type": "execute_result"
    }
   ],
   "source": [
    "data_01_V = data.iloc[500:1200,3:6]\n",
    "data_01_V.head()"
   ]
  },
  {
   "cell_type": "code",
   "execution_count": 24,
   "metadata": {
    "Collapsed": "false"
   },
   "outputs": [
    {
     "data": {
      "image/png": "[encoded data removed]",
      "text/plain": [
       "<Figure size 432x288 with 1 Axes>"
      ]
     },
     "metadata": {
      "needs_background": "light"
     },
     "output_type": "display_data"
    }
   ],
   "source": [
    "plt.plot(data_01_V.index, data_01_V.values)\n",
    "plt.grid()\n",
    "plt.legend(('01-V-x',\n",
    "  '01-V-y',\n",
    "  '01-V-z'))\n",
    "plt.show()"
   ]
  },
  {
   "cell_type": "code",
   "execution_count": 25,
   "metadata": {
    "Collapsed": "false"
   },
   "outputs": [
    {
     "data": {
      "text/html": [
       "<div>\n",
       "<style scoped>\n",
       "    .dataframe tbody tr th:only-of-type {\n",
       "        vertical-align: middle;\n",
       "    }\n",
       "\n",
       "    .dataframe tbody tr th {\n",
       "        vertical-align: top;\n",
       "    }\n",
       "\n",
       "    .dataframe thead tr th {\n",
       "        text-align: left;\n",
       "    }\n",
       "</style>\n",
       "<table border=\"1\" class=\"dataframe\">\n",
       "  <thead>\n",
       "    <tr>\n",
       "      <th></th>\n",
       "      <th>01-Q-s</th>\n",
       "      <th>01-Q-x</th>\n",
       "      <th>01-Q-y</th>\n",
       "      <th>01-Q-z</th>\n",
       "    </tr>\n",
       "  </thead>\n",
       "  <tbody>\n",
       "    <tr>\n",
       "      <th>500</th>\n",
       "      <td>-0.121388</td>\n",
       "      <td>0.709799</td>\n",
       "      <td>0.136588</td>\n",
       "      <td>0.680302</td>\n",
       "    </tr>\n",
       "    <tr>\n",
       "      <th>501</th>\n",
       "      <td>-0.121403</td>\n",
       "      <td>0.709806</td>\n",
       "      <td>0.136602</td>\n",
       "      <td>0.680294</td>\n",
       "    </tr>\n",
       "    <tr>\n",
       "      <th>502</th>\n",
       "      <td>-0.121399</td>\n",
       "      <td>0.709774</td>\n",
       "      <td>0.136605</td>\n",
       "      <td>0.680326</td>\n",
       "    </tr>\n",
       "    <tr>\n",
       "      <th>503</th>\n",
       "      <td>-0.121401</td>\n",
       "      <td>0.709690</td>\n",
       "      <td>0.136573</td>\n",
       "      <td>0.680410</td>\n",
       "    </tr>\n",
       "    <tr>\n",
       "      <th>504</th>\n",
       "      <td>-0.121398</td>\n",
       "      <td>0.709703</td>\n",
       "      <td>0.136489</td>\n",
       "      <td>0.680397</td>\n",
       "    </tr>\n",
       "  </tbody>\n",
       "</table>\n",
       "</div>"
      ],
      "text/plain": [
       "       01-Q-s    01-Q-x    01-Q-y    01-Q-z\n",
       "500 -0.121388  0.709799  0.136588  0.680302\n",
       "501 -0.121403  0.709806  0.136602  0.680294\n",
       "502 -0.121399  0.709774  0.136605  0.680326\n",
       "503 -0.121401  0.709690  0.136573  0.680410\n",
       "504 -0.121398  0.709703  0.136489  0.680397"
      ]
     },
     "execution_count": 25,
     "metadata": {},
     "output_type": "execute_result"
    }
   ],
   "source": [
    "data_01_Q = data.iloc[500:1200,6:10]\n",
    "data_01_Q.head()"
   ]
  },
  {
   "cell_type": "code",
   "execution_count": 26,
   "metadata": {
    "Collapsed": "false"
   },
   "outputs": [
    {
     "data": {
      "image/png": "[encoded data removed]",
      "text/plain": [
       "<Figure size 432x288 with 1 Axes>"
      ]
     },
     "metadata": {
      "needs_background": "light"
     },
     "output_type": "display_data"
    }
   ],
   "source": [
    "plt.plot(data_01_Q.index, data_01_Q.values)\n",
    "plt.grid()\n",
    "plt.legend(('01-Q-s',\n",
    "  '01-Q-x',\n",
    "  '01-Q-y',\n",
    "  '01-Q-z'))\n",
    "plt.show()"
   ]
  },
  {
   "cell_type": "code",
   "execution_count": 27,
   "metadata": {
    "Collapsed": "false"
   },
   "outputs": [
    {
     "data": {
      "text/html": [
       "<div>\n",
       "<style scoped>\n",
       "    .dataframe tbody tr th:only-of-type {\n",
       "        vertical-align: middle;\n",
       "    }\n",
       "\n",
       "    .dataframe tbody tr th {\n",
       "        vertical-align: top;\n",
       "    }\n",
       "\n",
       "    .dataframe thead tr th {\n",
       "        text-align: left;\n",
       "    }\n",
       "</style>\n",
       "<table border=\"1\" class=\"dataframe\">\n",
       "  <thead>\n",
       "    <tr>\n",
       "      <th></th>\n",
       "      <th>01-A-x</th>\n",
       "      <th>01-A-y</th>\n",
       "      <th>01-A-z</th>\n",
       "    </tr>\n",
       "  </thead>\n",
       "  <tbody>\n",
       "    <tr>\n",
       "      <th>500</th>\n",
       "      <td>-0.984813</td>\n",
       "      <td>0.002748</td>\n",
       "      <td>0.219240</td>\n",
       "    </tr>\n",
       "    <tr>\n",
       "      <th>501</th>\n",
       "      <td>-0.984486</td>\n",
       "      <td>0.000575</td>\n",
       "      <td>0.218403</td>\n",
       "    </tr>\n",
       "    <tr>\n",
       "      <th>502</th>\n",
       "      <td>-0.983515</td>\n",
       "      <td>0.004386</td>\n",
       "      <td>0.220079</td>\n",
       "    </tr>\n",
       "    <tr>\n",
       "      <th>503</th>\n",
       "      <td>-0.979746</td>\n",
       "      <td>0.003849</td>\n",
       "      <td>0.222048</td>\n",
       "    </tr>\n",
       "    <tr>\n",
       "      <th>504</th>\n",
       "      <td>-0.982037</td>\n",
       "      <td>0.003604</td>\n",
       "      <td>0.218284</td>\n",
       "    </tr>\n",
       "  </tbody>\n",
       "</table>\n",
       "</div>"
      ],
      "text/plain": [
       "       01-A-x    01-A-y    01-A-z\n",
       "500 -0.984813  0.002748  0.219240\n",
       "501 -0.984486  0.000575  0.218403\n",
       "502 -0.983515  0.004386  0.220079\n",
       "503 -0.979746  0.003849  0.222048\n",
       "504 -0.982037  0.003604  0.218284"
      ]
     },
     "execution_count": 27,
     "metadata": {},
     "output_type": "execute_result"
    }
   ],
   "source": [
    "data_01_A = data.iloc[500:1200,10:13]\n",
    "data_01_A.head()"
   ]
  },
  {
   "cell_type": "code",
   "execution_count": 28,
   "metadata": {
    "Collapsed": "false"
   },
   "outputs": [
    {
     "data": {
      "image/png": "[encoded data removed]",
      "text/plain": [
       "<Figure size 432x288 with 1 Axes>"
      ]
     },
     "metadata": {
      "needs_background": "light"
     },
     "output_type": "display_data"
    }
   ],
   "source": [
    "plt.plot(data_01_A.index, data_01_A.values)\n",
    "plt.grid()\n",
    "plt.legend(('01-A-x',\n",
    "  '01-A-y',\n",
    "  '01-A-z'))\n",
    "plt.show()"
   ]
  },
  {
   "cell_type": "code",
   "execution_count": 29,
   "metadata": {
    "Collapsed": "false"
   },
   "outputs": [
    {
     "data": {
      "text/html": [
       "<div>\n",
       "<style scoped>\n",
       "    .dataframe tbody tr th:only-of-type {\n",
       "        vertical-align: middle;\n",
       "    }\n",
       "\n",
       "    .dataframe tbody tr th {\n",
       "        vertical-align: top;\n",
       "    }\n",
       "\n",
       "    .dataframe thead tr th {\n",
       "        text-align: left;\n",
       "    }\n",
       "</style>\n",
       "<table border=\"1\" class=\"dataframe\">\n",
       "  <thead>\n",
       "    <tr>\n",
       "      <th></th>\n",
       "      <th>01-W-x</th>\n",
       "      <th>01-W-y</th>\n",
       "      <th>01-W-z</th>\n",
       "    </tr>\n",
       "  </thead>\n",
       "  <tbody>\n",
       "    <tr>\n",
       "      <th>500</th>\n",
       "      <td>3.047638e-10</td>\n",
       "      <td>-0.017171</td>\n",
       "      <td>-0.000596</td>\n",
       "    </tr>\n",
       "    <tr>\n",
       "      <th>501</th>\n",
       "      <td>-8.294836e-11</td>\n",
       "      <td>-0.018818</td>\n",
       "      <td>0.000162</td>\n",
       "    </tr>\n",
       "    <tr>\n",
       "      <th>502</th>\n",
       "      <td>2.320634e-11</td>\n",
       "      <td>-0.011961</td>\n",
       "      <td>-0.000044</td>\n",
       "    </tr>\n",
       "    <tr>\n",
       "      <th>503</th>\n",
       "      <td>-9.047347e-12</td>\n",
       "      <td>-0.002591</td>\n",
       "      <td>0.000012</td>\n",
       "    </tr>\n",
       "    <tr>\n",
       "      <th>504</th>\n",
       "      <td>1.311203e-11</td>\n",
       "      <td>-0.020995</td>\n",
       "      <td>-0.000003</td>\n",
       "    </tr>\n",
       "  </tbody>\n",
       "</table>\n",
       "</div>"
      ],
      "text/plain": [
       "           01-W-x    01-W-y    01-W-z\n",
       "500  3.047638e-10 -0.017171 -0.000596\n",
       "501 -8.294836e-11 -0.018818  0.000162\n",
       "502  2.320634e-11 -0.011961 -0.000044\n",
       "503 -9.047347e-12 -0.002591  0.000012\n",
       "504  1.311203e-11 -0.020995 -0.000003"
      ]
     },
     "execution_count": 29,
     "metadata": {},
     "output_type": "execute_result"
    }
   ],
   "source": [
    "data_01_W = data.iloc[500:1200,13:16]\n",
    "data_01_W.head()"
   ]
  },
  {
   "cell_type": "code",
   "execution_count": 30,
   "metadata": {
    "Collapsed": "false"
   },
   "outputs": [
    {
     "data": {
      "image/png": "[encoded data removed]",
      "text/plain": [
       "<Figure size 432x288 with 1 Axes>"
      ]
     },
     "metadata": {
      "needs_background": "light"
     },
     "output_type": "display_data"
    }
   ],
   "source": [
    "plt.plot(data_01_W.index, data_01_W.values)\n",
    "plt.grid()\n",
    "plt.legend(('01-W-x',\n",
    "  '01-W-y',\n",
    "  '01-W-z'))\n",
    "plt.show()"
   ]
  }
 ],
 "metadata": {
  "kernelspec": {
   "display_name": "Python 3",
   "language": "python",
   "name": "python3"
  },
  "language_info": {
   "codemirror_mode": {
    "name": "ipython",
    "version": 3
   },
   "file_extension": ".py",
   "mimetype": "text/x-python",
   "name": "python",
   "nbconvert_exporter": "python",
   "pygments_lexer": "ipython3",
   "version": "3.8.3"
  }
 },
 "nbformat": 4,
 "nbformat_minor": 4
}
