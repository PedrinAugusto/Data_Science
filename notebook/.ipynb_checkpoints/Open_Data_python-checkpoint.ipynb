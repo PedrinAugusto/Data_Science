{
 "cells": [
  {
   "cell_type": "code",
   "execution_count": 5,
   "metadata": {
    "Collapsed": "false"
   },
   "outputs": [],
   "source": [
    "import os\n",
    "import collections\n",
    "import re\n",
    "\n",
    "import numpy as np\n",
    "import pandas as pd\n",
    "import matplotlib.pyplot as plt\n",
    "import scipy.io as sio\n",
    "from pathlib import Path\n",
    "\n",
    "import sys\n",
    "sys.path.append(\"../src\")\n",
    "#importlib.reload(conversion_mat_to_py)\n",
    "from conversion_mat_to_py import mat2dict, pretty_dict, matobj2dict, dict2ntuple\n"
   ]
  },
  {
   "cell_type": "code",
   "execution_count": 14,
   "metadata": {
    "Collapsed": "false"
   },
   "outputs": [],
   "source": [
    "caminho = '/Users/User/OneDrive/TCC/MoVi/IMUmatlab_Subject_1_15/'\n",
    "imu_filename = caminho + 'imu_Subject_1.mat'"
   ]
  },
  {
   "cell_type": "code",
   "execution_count": 15,
   "metadata": {
    "Collapsed": "false"
   },
   "outputs": [],
   "source": [
    "# Reading MoVi files as a Python dictionary\n",
    "sample = mat2dict(imu_filename)"
   ]
  },
  {
   "cell_type": "code",
   "execution_count": 16,
   "metadata": {
    "Collapsed": "false"
   },
   "outputs": [
    {
     "data": {
      "text/plain": [
       "dict_keys(['S1_Synched', 'S2_Synched', 'I1', 'I2', 'S1', 'S2'])"
      ]
     },
     "execution_count": 16,
     "metadata": {},
     "output_type": "execute_result"
    }
   ],
   "source": [
    "sample.keys()"
   ]
  },
  {
   "cell_type": "code",
   "execution_count": 17,
   "metadata": {
    "Collapsed": "false"
   },
   "outputs": [
    {
     "name": "stdout",
     "output_type": "stream",
     "text": [
      "\tKey: S1_Synched\n",
      "\t\tKey: originalFile\n",
      "\t\tKey: description\n",
      "\t\tKey: jointNumbers\n",
      "\t\tKey: jointNames\n",
      "\t\tKey: dataTypes\n",
      "\t\tKey: dataTypesDescription\n",
      "\t\tKey: dataHeader\n",
      "\t\tKey: data\n",
      "\t\tKey: delay\n",
      "\t\tKey: scale\n",
      "\tKey: S2_Synched\n",
      "\t\tKey: originalFile\n",
      "\t\tKey: description\n",
      "\t\tKey: jointNumbers\n",
      "\t\tKey: jointNames\n",
      "\t\tKey: dataTypes\n",
      "\t\tKey: dataTypesDescription\n",
      "\t\tKey: dataHeader\n",
      "\t\tKey: data\n",
      "\t\tKey: delay\n",
      "\t\tKey: scale\n",
      "\tKey: I1\n",
      "\t\tKey: originalFile\n",
      "\t\tKey: description\n",
      "\t\tKey: jointNumbers\n",
      "\t\tKey: jointNames\n",
      "\t\tKey: dataTypes\n",
      "\t\tKey: dataTypesDescription\n",
      "\t\tKey: dataHeader\n",
      "\t\tKey: data\n",
      "\tKey: I2\n",
      "\t\tKey: originalFile\n",
      "\t\tKey: description\n",
      "\t\tKey: jointNumbers\n",
      "\t\tKey: jointNames\n",
      "\t\tKey: dataTypes\n",
      "\t\tKey: dataTypesDescription\n",
      "\t\tKey: dataHeader\n",
      "\t\tKey: data\n",
      "\tKey: S1\n",
      "\t\tKey: originalFile\n",
      "\t\tKey: description\n",
      "\t\tKey: jointNumbers\n",
      "\t\tKey: jointNames\n",
      "\t\tKey: dataTypes\n",
      "\t\tKey: dataTypesDescription\n",
      "\t\tKey: dataHeader\n",
      "\t\tKey: data\n",
      "\tKey: S2\n",
      "\t\tKey: originalFile\n",
      "\t\tKey: description\n",
      "\t\tKey: jointNumbers\n",
      "\t\tKey: jointNames\n",
      "\t\tKey: dataTypes\n",
      "\t\tKey: dataTypesDescription\n",
      "\t\tKey: dataHeader\n",
      "\t\tKey: data\n"
     ]
    }
   ],
   "source": [
    "pretty_dict(sample, print_type=False, indent=1)"
   ]
  },
  {
   "cell_type": "code",
   "execution_count": 18,
   "metadata": {
    "Collapsed": "false"
   },
   "outputs": [
    {
     "data": {
      "text/plain": [
       "array(['Hip', 'RightUpLeg', 'RightLeg', 'RightFoot', 'LeftUpLeg',\n",
       "       'LeftLeg', 'LeftFoot', 'RightShoulder', 'RightArm', 'RightForeArm',\n",
       "       'RightHand', 'LeftShoulder', 'LeftArm', 'LeftForeArm', 'LeftHand',\n",
       "       'Head', 'Neck', 'Spine3', 'Spine2', 'Spine1', 'Spine'],\n",
       "      dtype=object)"
      ]
     },
     "execution_count": 18,
     "metadata": {},
     "output_type": "execute_result"
    }
   ],
   "source": [
    "# Nome das juntas onde estão os sensores\n",
    "sample['S2_Synched']['jointNames']"
   ]
  },
  {
   "cell_type": "code",
   "execution_count": 19,
   "metadata": {
    "Collapsed": "false"
   },
   "outputs": [
    {
     "data": {
      "text/plain": [
       "array(['01', '02', '03', '04', '05', '06', '07', '08', '09', '10', '11',\n",
       "       '12', '13', '14', '15', '16', '17', '18', '19', '20', '21'],\n",
       "      dtype=object)"
      ]
     },
     "execution_count": 19,
     "metadata": {},
     "output_type": "execute_result"
    }
   ],
   "source": [
    "# Número das juntas onde estão os sensores\n",
    "sample['S2_Synched']['jointNumbers']"
   ]
  },
  {
   "cell_type": "code",
   "execution_count": 47,
   "metadata": {
    "Collapsed": "false"
   },
   "outputs": [
    {
     "name": "stdout",
     "output_type": "stream",
     "text": [
      "['X' 'V' 'Q' 'A' 'W']\n",
      "['Displacement (meter)' 'Speed (meter per second)'\n",
      " 'Posture data (Quaternions)' 'Acceleration (g)'\n",
      " 'Angular velocity (radian per second)']\n"
     ]
    }
   ],
   "source": [
    "# Tipos de dados para cada sensor\n",
    "print(sample['S2_Synched']['dataTypes'])\n",
    "print(sample['S2_Synched']['dataTypesDescription'])\n"
   ]
  },
  {
   "cell_type": "code",
   "execution_count": 21,
   "metadata": {
    "Collapsed": "false"
   },
   "outputs": [],
   "source": [
    "Data = sample['S2_Synched']['data']"
   ]
  },
  {
   "cell_type": "code",
   "execution_count": 22,
   "metadata": {
    "Collapsed": "false"
   },
   "outputs": [
    {
     "name": "stdout",
     "output_type": "stream",
     "text": [
      "\tKey: __header__\n",
      "\tKey: __version__\n",
      "\tKey: __globals__\n",
      "\tKey: None\n",
      "\tKey: __function_workspace__\n"
     ]
    }
   ],
   "source": [
    "dataHeader_filename = caminho + 'dataHeader.mat'\n",
    "dataHeader = sio.loadmat(dataHeader_filename)\n",
    "pretty_dict(dataHeader, print_type=False, indent=1)"
   ]
  },
  {
   "cell_type": "code",
   "execution_count": 23,
   "metadata": {
    "Collapsed": "false"
   },
   "outputs": [
    {
     "data": {
      "text/plain": [
       "MatlabOpaque([(b'x', b'MCOS', b'string', array([[3707764736],\n",
       "       [         2],\n",
       "       [         1],\n",
       "       [         1],\n",
       "       [         1],\n",
       "       [         1]], dtype=uint32))],\n",
       "             dtype=[('s0', 'O'), ('s1', 'O'), ('s2', 'O'), ('arr', 'O')])"
      ]
     },
     "execution_count": 23,
     "metadata": {},
     "output_type": "execute_result"
    }
   ],
   "source": [
    "dataHeader['None']"
   ]
  },
  {
   "cell_type": "code",
   "execution_count": 24,
   "metadata": {
    "Collapsed": "false"
   },
   "outputs": [],
   "source": [
    "header = pd.read_csv(caminho + 'columns.csv', sep=';')\n",
    "header = header[:].values.tolist()"
   ]
  },
  {
   "cell_type": "code",
   "execution_count": 25,
   "metadata": {
    "Collapsed": "false"
   },
   "outputs": [
    {
     "data": {
      "text/html": [
       "<div>\n",
       "<style scoped>\n",
       "    .dataframe tbody tr th:only-of-type {\n",
       "        vertical-align: middle;\n",
       "    }\n",
       "\n",
       "    .dataframe tbody tr th {\n",
       "        vertical-align: top;\n",
       "    }\n",
       "\n",
       "    .dataframe thead tr th {\n",
       "        text-align: left;\n",
       "    }\n",
       "</style>\n",
       "<table border=\"1\" class=\"dataframe\">\n",
       "  <thead>\n",
       "    <tr>\n",
       "      <th></th>\n",
       "      <th>01-X-x</th>\n",
       "      <th>01-X-y</th>\n",
       "      <th>01-X-z</th>\n",
       "      <th>01-V-x</th>\n",
       "      <th>01-V-y</th>\n",
       "      <th>01-V-z</th>\n",
       "      <th>01-Q-s</th>\n",
       "      <th>01-Q-x</th>\n",
       "      <th>01-Q-y</th>\n",
       "      <th>01-Q-z</th>\n",
       "      <th>...</th>\n",
       "      <th>21-Q-s</th>\n",
       "      <th>21-Q-x</th>\n",
       "      <th>21-Q-y</th>\n",
       "      <th>21-Q-z</th>\n",
       "      <th>21-A-x</th>\n",
       "      <th>21-A-y</th>\n",
       "      <th>21-A-z</th>\n",
       "      <th>21-W-x</th>\n",
       "      <th>21-W-y</th>\n",
       "      <th>21-W-z</th>\n",
       "    </tr>\n",
       "  </thead>\n",
       "  <tbody>\n",
       "    <tr>\n",
       "      <th>0</th>\n",
       "      <td>0.031078</td>\n",
       "      <td>0.056503</td>\n",
       "      <td>-0.0118</td>\n",
       "      <td>-0.011616</td>\n",
       "      <td>0.000556</td>\n",
       "      <td>0.007377</td>\n",
       "      <td>-0.123424</td>\n",
       "      <td>0.705</td>\n",
       "      <td>0.137418</td>\n",
       "      <td>0.684787</td>\n",
       "      <td>...</td>\n",
       "      <td>1.0</td>\n",
       "      <td>0.0</td>\n",
       "      <td>0.0</td>\n",
       "      <td>0.0</td>\n",
       "      <td>-0.981378</td>\n",
       "      <td>0.003906</td>\n",
       "      <td>0.237357</td>\n",
       "      <td>-0.016800</td>\n",
       "      <td>1.577233e-12</td>\n",
       "      <td>0.001291</td>\n",
       "    </tr>\n",
       "    <tr>\n",
       "      <th>1</th>\n",
       "      <td>0.030993</td>\n",
       "      <td>0.056499</td>\n",
       "      <td>-0.0118</td>\n",
       "      <td>-0.012510</td>\n",
       "      <td>0.001541</td>\n",
       "      <td>0.007329</td>\n",
       "      <td>-0.123510</td>\n",
       "      <td>0.705</td>\n",
       "      <td>0.137535</td>\n",
       "      <td>0.684687</td>\n",
       "      <td>...</td>\n",
       "      <td>1.0</td>\n",
       "      <td>0.0</td>\n",
       "      <td>0.0</td>\n",
       "      <td>0.0</td>\n",
       "      <td>-0.985008</td>\n",
       "      <td>0.003877</td>\n",
       "      <td>0.234089</td>\n",
       "      <td>-0.018674</td>\n",
       "      <td>-4.283233e-13</td>\n",
       "      <td>-0.005389</td>\n",
       "    </tr>\n",
       "    <tr>\n",
       "      <th>2</th>\n",
       "      <td>0.030984</td>\n",
       "      <td>0.056501</td>\n",
       "      <td>-0.0118</td>\n",
       "      <td>-0.013123</td>\n",
       "      <td>0.002509</td>\n",
       "      <td>0.007103</td>\n",
       "      <td>-0.123497</td>\n",
       "      <td>0.705</td>\n",
       "      <td>0.137608</td>\n",
       "      <td>0.684704</td>\n",
       "      <td>...</td>\n",
       "      <td>1.0</td>\n",
       "      <td>0.0</td>\n",
       "      <td>0.0</td>\n",
       "      <td>0.0</td>\n",
       "      <td>-0.983369</td>\n",
       "      <td>0.003989</td>\n",
       "      <td>0.234174</td>\n",
       "      <td>-0.012947</td>\n",
       "      <td>1.161375e-13</td>\n",
       "      <td>-0.014780</td>\n",
       "    </tr>\n",
       "    <tr>\n",
       "      <th>3</th>\n",
       "      <td>0.030861</td>\n",
       "      <td>0.056498</td>\n",
       "      <td>-0.0118</td>\n",
       "      <td>-0.012298</td>\n",
       "      <td>-0.001319</td>\n",
       "      <td>0.007391</td>\n",
       "      <td>-0.123500</td>\n",
       "      <td>0.705</td>\n",
       "      <td>0.137598</td>\n",
       "      <td>0.684699</td>\n",
       "      <td>...</td>\n",
       "      <td>1.0</td>\n",
       "      <td>0.0</td>\n",
       "      <td>0.0</td>\n",
       "      <td>0.0</td>\n",
       "      <td>-0.979803</td>\n",
       "      <td>0.003554</td>\n",
       "      <td>0.235767</td>\n",
       "      <td>0.001808</td>\n",
       "      <td>-3.144365e-14</td>\n",
       "      <td>0.002313</td>\n",
       "    </tr>\n",
       "    <tr>\n",
       "      <th>4</th>\n",
       "      <td>0.030797</td>\n",
       "      <td>0.056507</td>\n",
       "      <td>-0.0118</td>\n",
       "      <td>-0.013124</td>\n",
       "      <td>0.000015</td>\n",
       "      <td>0.007484</td>\n",
       "      <td>-0.123502</td>\n",
       "      <td>0.705</td>\n",
       "      <td>0.137601</td>\n",
       "      <td>0.684700</td>\n",
       "      <td>...</td>\n",
       "      <td>1.0</td>\n",
       "      <td>0.0</td>\n",
       "      <td>0.0</td>\n",
       "      <td>0.0</td>\n",
       "      <td>-0.981956</td>\n",
       "      <td>0.005350</td>\n",
       "      <td>0.237266</td>\n",
       "      <td>-0.000481</td>\n",
       "      <td>8.501267e-15</td>\n",
       "      <td>-0.000654</td>\n",
       "    </tr>\n",
       "  </tbody>\n",
       "</table>\n",
       "<p>5 rows × 336 columns</p>\n",
       "</div>"
      ],
      "text/plain": [
       "     01-X-x    01-X-y  01-X-z    01-V-x    01-V-y    01-V-z    01-Q-s 01-Q-x  \\\n",
       "0  0.031078  0.056503 -0.0118 -0.011616  0.000556  0.007377 -0.123424  0.705   \n",
       "1  0.030993  0.056499 -0.0118 -0.012510  0.001541  0.007329 -0.123510  0.705   \n",
       "2  0.030984  0.056501 -0.0118 -0.013123  0.002509  0.007103 -0.123497  0.705   \n",
       "3  0.030861  0.056498 -0.0118 -0.012298 -0.001319  0.007391 -0.123500  0.705   \n",
       "4  0.030797  0.056507 -0.0118 -0.013124  0.000015  0.007484 -0.123502  0.705   \n",
       "\n",
       "     01-Q-y    01-Q-z  ... 21-Q-s 21-Q-x 21-Q-y 21-Q-z    21-A-x    21-A-y  \\\n",
       "0  0.137418  0.684787  ...    1.0    0.0    0.0    0.0 -0.981378  0.003906   \n",
       "1  0.137535  0.684687  ...    1.0    0.0    0.0    0.0 -0.985008  0.003877   \n",
       "2  0.137608  0.684704  ...    1.0    0.0    0.0    0.0 -0.983369  0.003989   \n",
       "3  0.137598  0.684699  ...    1.0    0.0    0.0    0.0 -0.979803  0.003554   \n",
       "4  0.137601  0.684700  ...    1.0    0.0    0.0    0.0 -0.981956  0.005350   \n",
       "\n",
       "     21-A-z    21-W-x        21-W-y    21-W-z  \n",
       "0  0.237357 -0.016800  1.577233e-12  0.001291  \n",
       "1  0.234089 -0.018674 -4.283233e-13 -0.005389  \n",
       "2  0.234174 -0.012947  1.161375e-13 -0.014780  \n",
       "3  0.235767  0.001808 -3.144365e-14  0.002313  \n",
       "4  0.237266 -0.000481  8.501267e-15 -0.000654  \n",
       "\n",
       "[5 rows x 336 columns]"
      ]
     },
     "execution_count": 25,
     "metadata": {},
     "output_type": "execute_result"
    }
   ],
   "source": [
    "data = pd.DataFrame(Data, columns=header)\n",
    "data.head()"
   ]
  },
  {
   "cell_type": "code",
   "execution_count": 26,
   "metadata": {
    "Collapsed": "false"
   },
   "outputs": [
    {
     "data": {
      "text/html": [
       "<div>\n",
       "<style scoped>\n",
       "    .dataframe tbody tr th:only-of-type {\n",
       "        vertical-align: middle;\n",
       "    }\n",
       "\n",
       "    .dataframe tbody tr th {\n",
       "        vertical-align: top;\n",
       "    }\n",
       "\n",
       "    .dataframe thead tr th {\n",
       "        text-align: left;\n",
       "    }\n",
       "</style>\n",
       "<table border=\"1\" class=\"dataframe\">\n",
       "  <thead>\n",
       "    <tr>\n",
       "      <th></th>\n",
       "      <th>01-X-x</th>\n",
       "      <th>01-X-y</th>\n",
       "      <th>01-X-z</th>\n",
       "      <th>01-V-x</th>\n",
       "      <th>01-V-y</th>\n",
       "      <th>01-V-z</th>\n",
       "      <th>01-Q-s</th>\n",
       "      <th>01-Q-x</th>\n",
       "      <th>01-Q-y</th>\n",
       "      <th>01-Q-z</th>\n",
       "      <th>01-A-x</th>\n",
       "      <th>01-A-y</th>\n",
       "      <th>01-A-z</th>\n",
       "      <th>01-W-x</th>\n",
       "      <th>01-W-y</th>\n",
       "      <th>01-W-z</th>\n",
       "    </tr>\n",
       "  </thead>\n",
       "  <tbody>\n",
       "    <tr>\n",
       "      <th>500</th>\n",
       "      <td>0.021125</td>\n",
       "      <td>0.050423</td>\n",
       "      <td>-0.012470</td>\n",
       "      <td>0.001051</td>\n",
       "      <td>0.003724</td>\n",
       "      <td>0.007532</td>\n",
       "      <td>-0.121388</td>\n",
       "      <td>0.709799</td>\n",
       "      <td>0.136588</td>\n",
       "      <td>0.680302</td>\n",
       "      <td>-0.984813</td>\n",
       "      <td>0.002748</td>\n",
       "      <td>0.219240</td>\n",
       "      <td>3.047638e-10</td>\n",
       "      <td>-0.017171</td>\n",
       "      <td>-0.000596</td>\n",
       "    </tr>\n",
       "    <tr>\n",
       "      <th>501</th>\n",
       "      <td>0.021204</td>\n",
       "      <td>0.050512</td>\n",
       "      <td>-0.012415</td>\n",
       "      <td>0.000837</td>\n",
       "      <td>0.003683</td>\n",
       "      <td>0.007374</td>\n",
       "      <td>-0.121403</td>\n",
       "      <td>0.709806</td>\n",
       "      <td>0.136602</td>\n",
       "      <td>0.680294</td>\n",
       "      <td>-0.984486</td>\n",
       "      <td>0.000575</td>\n",
       "      <td>0.218403</td>\n",
       "      <td>-8.294836e-11</td>\n",
       "      <td>-0.018818</td>\n",
       "      <td>0.000162</td>\n",
       "    </tr>\n",
       "    <tr>\n",
       "      <th>502</th>\n",
       "      <td>0.021223</td>\n",
       "      <td>0.050491</td>\n",
       "      <td>-0.012513</td>\n",
       "      <td>0.002077</td>\n",
       "      <td>0.004584</td>\n",
       "      <td>0.007244</td>\n",
       "      <td>-0.121399</td>\n",
       "      <td>0.709774</td>\n",
       "      <td>0.136605</td>\n",
       "      <td>0.680326</td>\n",
       "      <td>-0.983515</td>\n",
       "      <td>0.004386</td>\n",
       "      <td>0.220079</td>\n",
       "      <td>2.320634e-11</td>\n",
       "      <td>-0.011961</td>\n",
       "      <td>-0.000044</td>\n",
       "    </tr>\n",
       "    <tr>\n",
       "      <th>503</th>\n",
       "      <td>0.021313</td>\n",
       "      <td>0.050528</td>\n",
       "      <td>-0.012497</td>\n",
       "      <td>0.003836</td>\n",
       "      <td>0.004523</td>\n",
       "      <td>0.007295</td>\n",
       "      <td>-0.121401</td>\n",
       "      <td>0.709690</td>\n",
       "      <td>0.136573</td>\n",
       "      <td>0.680410</td>\n",
       "      <td>-0.979746</td>\n",
       "      <td>0.003849</td>\n",
       "      <td>0.222048</td>\n",
       "      <td>-9.047347e-12</td>\n",
       "      <td>-0.002591</td>\n",
       "      <td>0.000012</td>\n",
       "    </tr>\n",
       "    <tr>\n",
       "      <th>504</th>\n",
       "      <td>0.021290</td>\n",
       "      <td>0.050610</td>\n",
       "      <td>-0.012499</td>\n",
       "      <td>0.000600</td>\n",
       "      <td>0.003618</td>\n",
       "      <td>0.007659</td>\n",
       "      <td>-0.121398</td>\n",
       "      <td>0.709703</td>\n",
       "      <td>0.136489</td>\n",
       "      <td>0.680397</td>\n",
       "      <td>-0.982037</td>\n",
       "      <td>0.003604</td>\n",
       "      <td>0.218284</td>\n",
       "      <td>1.311203e-11</td>\n",
       "      <td>-0.020995</td>\n",
       "      <td>-0.000003</td>\n",
       "    </tr>\n",
       "  </tbody>\n",
       "</table>\n",
       "</div>"
      ],
      "text/plain": [
       "       01-X-x    01-X-y    01-X-z    01-V-x    01-V-y    01-V-z    01-Q-s  \\\n",
       "500  0.021125  0.050423 -0.012470  0.001051  0.003724  0.007532 -0.121388   \n",
       "501  0.021204  0.050512 -0.012415  0.000837  0.003683  0.007374 -0.121403   \n",
       "502  0.021223  0.050491 -0.012513  0.002077  0.004584  0.007244 -0.121399   \n",
       "503  0.021313  0.050528 -0.012497  0.003836  0.004523  0.007295 -0.121401   \n",
       "504  0.021290  0.050610 -0.012499  0.000600  0.003618  0.007659 -0.121398   \n",
       "\n",
       "       01-Q-x    01-Q-y    01-Q-z    01-A-x    01-A-y    01-A-z        01-W-x  \\\n",
       "500  0.709799  0.136588  0.680302 -0.984813  0.002748  0.219240  3.047638e-10   \n",
       "501  0.709806  0.136602  0.680294 -0.984486  0.000575  0.218403 -8.294836e-11   \n",
       "502  0.709774  0.136605  0.680326 -0.983515  0.004386  0.220079  2.320634e-11   \n",
       "503  0.709690  0.136573  0.680410 -0.979746  0.003849  0.222048 -9.047347e-12   \n",
       "504  0.709703  0.136489  0.680397 -0.982037  0.003604  0.218284  1.311203e-11   \n",
       "\n",
       "       01-W-y    01-W-z  \n",
       "500 -0.017171 -0.000596  \n",
       "501 -0.018818  0.000162  \n",
       "502 -0.011961 -0.000044  \n",
       "503 -0.002591  0.000012  \n",
       "504 -0.020995 -0.000003  "
      ]
     },
     "execution_count": 26,
     "metadata": {},
     "output_type": "execute_result"
    }
   ],
   "source": [
    "data_01 = data.iloc[500:1200,:16]\n",
    "data_01.head()"
   ]
  },
  {
   "cell_type": "code",
   "execution_count": 27,
   "metadata": {
    "Collapsed": "false"
   },
   "outputs": [
    {
     "data": {
      "image/png": "[encoded data removed]",
      "text/plain": [
       "<Figure size 432x288 with 1 Axes>"
      ]
     },
     "metadata": {
      "needs_background": "light"
     },
     "output_type": "display_data"
    }
   ],
   "source": [
    "plt.plot(data_01.index, data_01.values)\n",
    "plt.grid()\n",
    "plt.show()"
   ]
  },
  {
   "cell_type": "code",
   "execution_count": 28,
   "metadata": {
    "Collapsed": "false"
   },
   "outputs": [
    {
     "data": {
      "text/html": [
       "<div>\n",
       "<style scoped>\n",
       "    .dataframe tbody tr th:only-of-type {\n",
       "        vertical-align: middle;\n",
       "    }\n",
       "\n",
       "    .dataframe tbody tr th {\n",
       "        vertical-align: top;\n",
       "    }\n",
       "\n",
       "    .dataframe thead tr th {\n",
       "        text-align: left;\n",
       "    }\n",
       "</style>\n",
       "<table border=\"1\" class=\"dataframe\">\n",
       "  <thead>\n",
       "    <tr>\n",
       "      <th></th>\n",
       "      <th>01-X-x</th>\n",
       "      <th>01-X-y</th>\n",
       "      <th>01-X-z</th>\n",
       "    </tr>\n",
       "  </thead>\n",
       "  <tbody>\n",
       "    <tr>\n",
       "      <th>500</th>\n",
       "      <td>0.021125</td>\n",
       "      <td>0.050423</td>\n",
       "      <td>-0.012470</td>\n",
       "    </tr>\n",
       "    <tr>\n",
       "      <th>501</th>\n",
       "      <td>0.021204</td>\n",
       "      <td>0.050512</td>\n",
       "      <td>-0.012415</td>\n",
       "    </tr>\n",
       "    <tr>\n",
       "      <th>502</th>\n",
       "      <td>0.021223</td>\n",
       "      <td>0.050491</td>\n",
       "      <td>-0.012513</td>\n",
       "    </tr>\n",
       "    <tr>\n",
       "      <th>503</th>\n",
       "      <td>0.021313</td>\n",
       "      <td>0.050528</td>\n",
       "      <td>-0.012497</td>\n",
       "    </tr>\n",
       "    <tr>\n",
       "      <th>504</th>\n",
       "      <td>0.021290</td>\n",
       "      <td>0.050610</td>\n",
       "      <td>-0.012499</td>\n",
       "    </tr>\n",
       "  </tbody>\n",
       "</table>\n",
       "</div>"
      ],
      "text/plain": [
       "       01-X-x    01-X-y    01-X-z\n",
       "500  0.021125  0.050423 -0.012470\n",
       "501  0.021204  0.050512 -0.012415\n",
       "502  0.021223  0.050491 -0.012513\n",
       "503  0.021313  0.050528 -0.012497\n",
       "504  0.021290  0.050610 -0.012499"
      ]
     },
     "execution_count": 28,
     "metadata": {},
     "output_type": "execute_result"
    }
   ],
   "source": [
    "data_01_X = data.iloc[500:1200,:3]\n",
    "data_01_X.head()"
   ]
  },
  {
   "cell_type": "code",
   "execution_count": 29,
   "metadata": {
    "Collapsed": "false"
   },
   "outputs": [
    {
     "data": {
      "image/png": "[encoded data removed]",
      "text/plain": [
       "<Figure size 432x288 with 1 Axes>"
      ]
     },
     "metadata": {
      "needs_background": "light"
     },
     "output_type": "display_data"
    }
   ],
   "source": [
    "plt.plot(data_01_X.index, data_01_X.values)\n",
    "plt.grid()\n",
    "plt.legend(('01-X-x',\n",
    "  '01-X-y',\n",
    "  '01-X-z'))\n",
    "plt.show()"
   ]
  },
  {
   "cell_type": "code",
   "execution_count": 30,
   "metadata": {
    "Collapsed": "false"
   },
   "outputs": [
    {
     "data": {
      "text/html": [
       "<div>\n",
       "<style scoped>\n",
       "    .dataframe tbody tr th:only-of-type {\n",
       "        vertical-align: middle;\n",
       "    }\n",
       "\n",
       "    .dataframe tbody tr th {\n",
       "        vertical-align: top;\n",
       "    }\n",
       "\n",
       "    .dataframe thead tr th {\n",
       "        text-align: left;\n",
       "    }\n",
       "</style>\n",
       "<table border=\"1\" class=\"dataframe\">\n",
       "  <thead>\n",
       "    <tr>\n",
       "      <th></th>\n",
       "      <th>01-V-x</th>\n",
       "      <th>01-V-y</th>\n",
       "      <th>01-V-z</th>\n",
       "    </tr>\n",
       "  </thead>\n",
       "  <tbody>\n",
       "    <tr>\n",
       "      <th>500</th>\n",
       "      <td>0.001051</td>\n",
       "      <td>0.003724</td>\n",
       "      <td>0.007532</td>\n",
       "    </tr>\n",
       "    <tr>\n",
       "      <th>501</th>\n",
       "      <td>0.000837</td>\n",
       "      <td>0.003683</td>\n",
       "      <td>0.007374</td>\n",
       "    </tr>\n",
       "    <tr>\n",
       "      <th>502</th>\n",
       "      <td>0.002077</td>\n",
       "      <td>0.004584</td>\n",
       "      <td>0.007244</td>\n",
       "    </tr>\n",
       "    <tr>\n",
       "      <th>503</th>\n",
       "      <td>0.003836</td>\n",
       "      <td>0.004523</td>\n",
       "      <td>0.007295</td>\n",
       "    </tr>\n",
       "    <tr>\n",
       "      <th>504</th>\n",
       "      <td>0.000600</td>\n",
       "      <td>0.003618</td>\n",
       "      <td>0.007659</td>\n",
       "    </tr>\n",
       "  </tbody>\n",
       "</table>\n",
       "</div>"
      ],
      "text/plain": [
       "       01-V-x    01-V-y    01-V-z\n",
       "500  0.001051  0.003724  0.007532\n",
       "501  0.000837  0.003683  0.007374\n",
       "502  0.002077  0.004584  0.007244\n",
       "503  0.003836  0.004523  0.007295\n",
       "504  0.000600  0.003618  0.007659"
      ]
     },
     "execution_count": 30,
     "metadata": {},
     "output_type": "execute_result"
    }
   ],
   "source": [
    "data_01_V = data.iloc[500:1200,3:6]\n",
    "data_01_V.head()"
   ]
  },
  {
   "cell_type": "code",
   "execution_count": 31,
   "metadata": {
    "Collapsed": "false"
   },
   "outputs": [
    {
     "data": {
      "image/png": "[encoded data removed]",
      "text/plain": [
       "<Figure size 432x288 with 1 Axes>"
      ]
     },
     "metadata": {
      "needs_background": "light"
     },
     "output_type": "display_data"
    }
   ],
   "source": [
    "plt.plot(data_01_V.index, data_01_V.values)\n",
    "plt.grid()\n",
    "plt.legend(('01-V-x',\n",
    "  '01-V-y',\n",
    "  '01-V-z'))\n",
    "plt.show()"
   ]
  },
  {
   "cell_type": "code",
   "execution_count": 32,
   "metadata": {
    "Collapsed": "false"
   },
   "outputs": [
    {
     "data": {
      "text/html": [
       "<div>\n",
       "<style scoped>\n",
       "    .dataframe tbody tr th:only-of-type {\n",
       "        vertical-align: middle;\n",
       "    }\n",
       "\n",
       "    .dataframe tbody tr th {\n",
       "        vertical-align: top;\n",
       "    }\n",
       "\n",
       "    .dataframe thead tr th {\n",
       "        text-align: left;\n",
       "    }\n",
       "</style>\n",
       "<table border=\"1\" class=\"dataframe\">\n",
       "  <thead>\n",
       "    <tr>\n",
       "      <th></th>\n",
       "      <th>01-Q-s</th>\n",
       "      <th>01-Q-x</th>\n",
       "      <th>01-Q-y</th>\n",
       "      <th>01-Q-z</th>\n",
       "    </tr>\n",
       "  </thead>\n",
       "  <tbody>\n",
       "    <tr>\n",
       "      <th>500</th>\n",
       "      <td>-0.121388</td>\n",
       "      <td>0.709799</td>\n",
       "      <td>0.136588</td>\n",
       "      <td>0.680302</td>\n",
       "    </tr>\n",
       "    <tr>\n",
       "      <th>501</th>\n",
       "      <td>-0.121403</td>\n",
       "      <td>0.709806</td>\n",
       "      <td>0.136602</td>\n",
       "      <td>0.680294</td>\n",
       "    </tr>\n",
       "    <tr>\n",
       "      <th>502</th>\n",
       "      <td>-0.121399</td>\n",
       "      <td>0.709774</td>\n",
       "      <td>0.136605</td>\n",
       "      <td>0.680326</td>\n",
       "    </tr>\n",
       "    <tr>\n",
       "      <th>503</th>\n",
       "      <td>-0.121401</td>\n",
       "      <td>0.709690</td>\n",
       "      <td>0.136573</td>\n",
       "      <td>0.680410</td>\n",
       "    </tr>\n",
       "    <tr>\n",
       "      <th>504</th>\n",
       "      <td>-0.121398</td>\n",
       "      <td>0.709703</td>\n",
       "      <td>0.136489</td>\n",
       "      <td>0.680397</td>\n",
       "    </tr>\n",
       "  </tbody>\n",
       "</table>\n",
       "</div>"
      ],
      "text/plain": [
       "       01-Q-s    01-Q-x    01-Q-y    01-Q-z\n",
       "500 -0.121388  0.709799  0.136588  0.680302\n",
       "501 -0.121403  0.709806  0.136602  0.680294\n",
       "502 -0.121399  0.709774  0.136605  0.680326\n",
       "503 -0.121401  0.709690  0.136573  0.680410\n",
       "504 -0.121398  0.709703  0.136489  0.680397"
      ]
     },
     "execution_count": 32,
     "metadata": {},
     "output_type": "execute_result"
    }
   ],
   "source": [
    "data_01_Q = data.iloc[500:1200,6:10]\n",
    "data_01_Q.head()"
   ]
  },
  {
   "cell_type": "code",
   "execution_count": 33,
   "metadata": {
    "Collapsed": "false"
   },
   "outputs": [
    {
     "data": {
      "image/png": "[encoded data removed]",
      "text/plain": [
       "<Figure size 432x288 with 1 Axes>"
      ]
     },
     "metadata": {
      "needs_background": "light"
     },
     "output_type": "display_data"
    }
   ],
   "source": [
    "plt.plot(data_01_Q.index, data_01_Q.values)\n",
    "plt.grid()\n",
    "plt.legend(('01-Q-s',\n",
    "  '01-Q-x',\n",
    "  '01-Q-y',\n",
    "  '01-Q-z'))\n",
    "plt.show()"
   ]
  },
  {
   "cell_type": "code",
   "execution_count": 34,
   "metadata": {
    "Collapsed": "false"
   },
   "outputs": [
    {
     "data": {
      "text/html": [
       "<div>\n",
       "<style scoped>\n",
       "    .dataframe tbody tr th:only-of-type {\n",
       "        vertical-align: middle;\n",
       "    }\n",
       "\n",
       "    .dataframe tbody tr th {\n",
       "        vertical-align: top;\n",
       "    }\n",
       "\n",
       "    .dataframe thead tr th {\n",
       "        text-align: left;\n",
       "    }\n",
       "</style>\n",
       "<table border=\"1\" class=\"dataframe\">\n",
       "  <thead>\n",
       "    <tr>\n",
       "      <th></th>\n",
       "      <th>01-A-x</th>\n",
       "      <th>01-A-y</th>\n",
       "      <th>01-A-z</th>\n",
       "    </tr>\n",
       "  </thead>\n",
       "  <tbody>\n",
       "    <tr>\n",
       "      <th>500</th>\n",
       "      <td>-0.984813</td>\n",
       "      <td>0.002748</td>\n",
       "      <td>0.219240</td>\n",
       "    </tr>\n",
       "    <tr>\n",
       "      <th>501</th>\n",
       "      <td>-0.984486</td>\n",
       "      <td>0.000575</td>\n",
       "      <td>0.218403</td>\n",
       "    </tr>\n",
       "    <tr>\n",
       "      <th>502</th>\n",
       "      <td>-0.983515</td>\n",
       "      <td>0.004386</td>\n",
       "      <td>0.220079</td>\n",
       "    </tr>\n",
       "    <tr>\n",
       "      <th>503</th>\n",
       "      <td>-0.979746</td>\n",
       "      <td>0.003849</td>\n",
       "      <td>0.222048</td>\n",
       "    </tr>\n",
       "    <tr>\n",
       "      <th>504</th>\n",
       "      <td>-0.982037</td>\n",
       "      <td>0.003604</td>\n",
       "      <td>0.218284</td>\n",
       "    </tr>\n",
       "  </tbody>\n",
       "</table>\n",
       "</div>"
      ],
      "text/plain": [
       "       01-A-x    01-A-y    01-A-z\n",
       "500 -0.984813  0.002748  0.219240\n",
       "501 -0.984486  0.000575  0.218403\n",
       "502 -0.983515  0.004386  0.220079\n",
       "503 -0.979746  0.003849  0.222048\n",
       "504 -0.982037  0.003604  0.218284"
      ]
     },
     "execution_count": 34,
     "metadata": {},
     "output_type": "execute_result"
    }
   ],
   "source": [
    "data_01_A = data.iloc[500:1200,10:13]\n",
    "data_01_A.head()"
   ]
  },
  {
   "cell_type": "code",
   "execution_count": 35,
   "metadata": {
    "Collapsed": "false"
   },
   "outputs": [
    {
     "data": {
      "image/png": "[encoded data removed]",
      "text/plain": [
       "<Figure size 432x288 with 1 Axes>"
      ]
     },
     "metadata": {
      "needs_background": "light"
     },
     "output_type": "display_data"
    }
   ],
   "source": [
    "plt.plot(data_01_A.index, data_01_A.values)\n",
    "plt.grid()\n",
    "plt.legend(('01-A-x',\n",
    "  '01-A-y',\n",
    "  '01-A-z'))\n",
    "plt.show()"
   ]
  },
  {
   "cell_type": "code",
   "execution_count": 36,
   "metadata": {
    "Collapsed": "false"
   },
   "outputs": [
    {
     "data": {
      "text/html": [
       "<div>\n",
       "<style scoped>\n",
       "    .dataframe tbody tr th:only-of-type {\n",
       "        vertical-align: middle;\n",
       "    }\n",
       "\n",
       "    .dataframe tbody tr th {\n",
       "        vertical-align: top;\n",
       "    }\n",
       "\n",
       "    .dataframe thead tr th {\n",
       "        text-align: left;\n",
       "    }\n",
       "</style>\n",
       "<table border=\"1\" class=\"dataframe\">\n",
       "  <thead>\n",
       "    <tr>\n",
       "      <th></th>\n",
       "      <th>01-W-x</th>\n",
       "      <th>01-W-y</th>\n",
       "      <th>01-W-z</th>\n",
       "    </tr>\n",
       "  </thead>\n",
       "  <tbody>\n",
       "    <tr>\n",
       "      <th>500</th>\n",
       "      <td>3.047638e-10</td>\n",
       "      <td>-0.017171</td>\n",
       "      <td>-0.000596</td>\n",
       "    </tr>\n",
       "    <tr>\n",
       "      <th>501</th>\n",
       "      <td>-8.294836e-11</td>\n",
       "      <td>-0.018818</td>\n",
       "      <td>0.000162</td>\n",
       "    </tr>\n",
       "    <tr>\n",
       "      <th>502</th>\n",
       "      <td>2.320634e-11</td>\n",
       "      <td>-0.011961</td>\n",
       "      <td>-0.000044</td>\n",
       "    </tr>\n",
       "    <tr>\n",
       "      <th>503</th>\n",
       "      <td>-9.047347e-12</td>\n",
       "      <td>-0.002591</td>\n",
       "      <td>0.000012</td>\n",
       "    </tr>\n",
       "    <tr>\n",
       "      <th>504</th>\n",
       "      <td>1.311203e-11</td>\n",
       "      <td>-0.020995</td>\n",
       "      <td>-0.000003</td>\n",
       "    </tr>\n",
       "  </tbody>\n",
       "</table>\n",
       "</div>"
      ],
      "text/plain": [
       "           01-W-x    01-W-y    01-W-z\n",
       "500  3.047638e-10 -0.017171 -0.000596\n",
       "501 -8.294836e-11 -0.018818  0.000162\n",
       "502  2.320634e-11 -0.011961 -0.000044\n",
       "503 -9.047347e-12 -0.002591  0.000012\n",
       "504  1.311203e-11 -0.020995 -0.000003"
      ]
     },
     "execution_count": 36,
     "metadata": {},
     "output_type": "execute_result"
    }
   ],
   "source": [
    "data_01_W = data.iloc[500:1200,13:16]\n",
    "data_01_W.head()"
   ]
  },
  {
   "cell_type": "code",
   "execution_count": 37,
   "metadata": {
    "Collapsed": "false"
   },
   "outputs": [
    {
     "data": {
      "image/png": "[encoded data removed]",
      "text/plain": [
       "<Figure size 432x288 with 1 Axes>"
      ]
     },
     "metadata": {
      "needs_background": "light"
     },
     "output_type": "display_data"
    }
   ],
   "source": [
    "plt.plot(data_01_W.index, data_01_W.values)\n",
    "plt.grid()\n",
    "plt.legend(('01-W-x',\n",
    "  '01-W-y',\n",
    "  '01-W-z'))\n",
    "plt.show()"
   ]
  },
  {
   "cell_type": "markdown",
   "metadata": {
    "Collapsed": "false"
   },
   "source": [
    "# Transformando os dados de aceleração de sentar e levantar em dados de angulos.\n",
    "\n",
    "Para utilizar os dados de aceleração do pescoço e das pernas, utilizaremos os dados do:\n",
    "* sensor 18 -> pescoço;\n",
    "* sensor \"2 ou 3\" -> perna direita;\n",
    "* sensor \"5 ou 6\" -> perna esquerda.  "
   ]
  },
  {
   "cell_type": "code",
   "execution_count": 38,
   "metadata": {
    "Collapsed": "false"
   },
   "outputs": [],
   "source": [
    "import math"
   ]
  },
  {
   "cell_type": "code",
   "execution_count": 39,
   "metadata": {
    "Collapsed": "false"
   },
   "outputs": [
    {
     "data": {
      "text/html": [
       "<div>\n",
       "<style scoped>\n",
       "    .dataframe tbody tr th:only-of-type {\n",
       "        vertical-align: middle;\n",
       "    }\n",
       "\n",
       "    .dataframe tbody tr th {\n",
       "        vertical-align: top;\n",
       "    }\n",
       "\n",
       "    .dataframe thead tr th {\n",
       "        text-align: left;\n",
       "    }\n",
       "</style>\n",
       "<table border=\"1\" class=\"dataframe\">\n",
       "  <thead>\n",
       "    <tr>\n",
       "      <th></th>\n",
       "      <th>18-A-x</th>\n",
       "      <th>18-A-y</th>\n",
       "      <th>18-A-z</th>\n",
       "    </tr>\n",
       "  </thead>\n",
       "  <tbody>\n",
       "    <tr>\n",
       "      <th>500</th>\n",
       "      <td>-0.972703</td>\n",
       "      <td>-0.027263</td>\n",
       "      <td>0.230786</td>\n",
       "    </tr>\n",
       "    <tr>\n",
       "      <th>501</th>\n",
       "      <td>-0.972688</td>\n",
       "      <td>-0.027545</td>\n",
       "      <td>0.229295</td>\n",
       "    </tr>\n",
       "    <tr>\n",
       "      <th>502</th>\n",
       "      <td>-0.972748</td>\n",
       "      <td>-0.026229</td>\n",
       "      <td>0.227223</td>\n",
       "    </tr>\n",
       "    <tr>\n",
       "      <th>503</th>\n",
       "      <td>-0.972515</td>\n",
       "      <td>-0.023246</td>\n",
       "      <td>0.230950</td>\n",
       "    </tr>\n",
       "    <tr>\n",
       "      <th>504</th>\n",
       "      <td>-0.973529</td>\n",
       "      <td>-0.022422</td>\n",
       "      <td>0.230609</td>\n",
       "    </tr>\n",
       "  </tbody>\n",
       "</table>\n",
       "</div>"
      ],
      "text/plain": [
       "       18-A-x    18-A-y    18-A-z\n",
       "500 -0.972703 -0.027263  0.230786\n",
       "501 -0.972688 -0.027545  0.229295\n",
       "502 -0.972748 -0.026229  0.227223\n",
       "503 -0.972515 -0.023246  0.230950\n",
       "504 -0.973529 -0.022422  0.230609"
      ]
     },
     "execution_count": 39,
     "metadata": {},
     "output_type": "execute_result"
    }
   ],
   "source": [
    "data_18_A = data.iloc[500:1400,282:285]\n",
    "data_18_A.head()"
   ]
  },
  {
   "cell_type": "code",
   "execution_count": 40,
   "metadata": {
    "Collapsed": "false"
   },
   "outputs": [
    {
     "name": "stdout",
     "output_type": "stream",
     "text": [
      "[[-0.97270319]]\n",
      "[[-0.02726293]]\n",
      "[[0.23078607]]\n",
      "O Resultado do módulo para o primeiro dado é:  [[1.00007848]]\n",
      "O ângulo em rad é:  [[1.33792946]]\n",
      "O ângulo em graus é:  [[76.65771114]]\n"
     ]
    }
   ],
   "source": [
    "# Como teste para garantir a realização correta das contas, farei a conta com apenas os primeiros valores\n",
    "Ax1 = data_18_A.iloc[:1,:1].values\n",
    "print(Ax1)\n",
    "Ay1 = data_18_A.iloc[:1,1:2].values\n",
    "print(Ay1)\n",
    "Az1 = data_18_A.iloc[:1,2:3].values\n",
    "print(Az1)\n",
    "Gp_prove = np.sqrt(np.power(Ax1, 2) + np.power(Ay1, 2) + np.power(Az1, 2))\n",
    "print('O Resultado do módulo para o primeiro dado é: ', Gp_prove)\n",
    "\n",
    "# Encontrar o ângulo em relação ao eixo z com dados de teste\n",
    "\n",
    "x = Az1/Gp_prove\n",
    "\n",
    "angle = np.rad2deg((np.arccos(x)))\n",
    "angle_rad = np.arccos(x)\n",
    "#print(x)\n",
    "print('O ângulo em rad é: ',angle_rad)\n",
    "print('O ângulo em graus é: ',angle)"
   ]
  },
  {
   "cell_type": "code",
   "execution_count": 41,
   "metadata": {
    "Collapsed": "false"
   },
   "outputs": [],
   "source": [
    "def acc_to_angle(data):\n",
    "    \n",
    "    \"\"\"Função de transformação de acelerações (x, y, z) em ângulos.\"\"\"\n",
    "    \n",
    "    \"\"\"Entrada: Lista com dados de aceleração com os 3 eixos (x, y, z) \"\"\"\n",
    "    \"\"\"Saída: Lista com dados de ângulos em graus e radianos em relação ao eixo z\"\"\"\n",
    "\n",
    "\n",
    "    # Separar os eixos \n",
    "\n",
    "    Ax = data[:,:1]\n",
    "    Ay = data[:,1:2]\n",
    "    Az = data[:,2:3]\n",
    "\n",
    "    # Módulo da força G \n",
    "    \n",
    "    Gp = np.sqrt(np.power(Ax, 2) + np.power(Ay, 2) + np.power(Az, 2))\n",
    "\n",
    "    \n",
    "    # Encontrar o ângulo em relação ao eixo z com dados de teste   \n",
    "    \n",
    "    x = Az/Gp\n",
    "\n",
    "    angle_rad = np.arccos(x)\n",
    "    angle = np.rad2deg((np.arccos(x)))\n",
    "    \n",
    "    return angle_rad, angle"
   ]
  },
  {
   "cell_type": "code",
   "execution_count": 42,
   "metadata": {
    "Collapsed": "false"
   },
   "outputs": [
    {
     "data": {
      "text/html": [
       "<div>\n",
       "<style scoped>\n",
       "    .dataframe tbody tr th:only-of-type {\n",
       "        vertical-align: middle;\n",
       "    }\n",
       "\n",
       "    .dataframe tbody tr th {\n",
       "        vertical-align: top;\n",
       "    }\n",
       "\n",
       "    .dataframe thead tr th {\n",
       "        text-align: left;\n",
       "    }\n",
       "</style>\n",
       "<table border=\"1\" class=\"dataframe\">\n",
       "  <thead>\n",
       "    <tr>\n",
       "      <th></th>\n",
       "      <th>21-A-x</th>\n",
       "      <th>21-A-y</th>\n",
       "      <th>21-A-z</th>\n",
       "    </tr>\n",
       "  </thead>\n",
       "  <tbody>\n",
       "    <tr>\n",
       "      <th>500</th>\n",
       "      <td>-0.984813</td>\n",
       "      <td>0.002748</td>\n",
       "      <td>0.219240</td>\n",
       "    </tr>\n",
       "    <tr>\n",
       "      <th>501</th>\n",
       "      <td>-0.984486</td>\n",
       "      <td>0.000575</td>\n",
       "      <td>0.218403</td>\n",
       "    </tr>\n",
       "    <tr>\n",
       "      <th>502</th>\n",
       "      <td>-0.983515</td>\n",
       "      <td>0.004386</td>\n",
       "      <td>0.220079</td>\n",
       "    </tr>\n",
       "    <tr>\n",
       "      <th>503</th>\n",
       "      <td>-0.979746</td>\n",
       "      <td>0.003849</td>\n",
       "      <td>0.222048</td>\n",
       "    </tr>\n",
       "    <tr>\n",
       "      <th>504</th>\n",
       "      <td>-0.982037</td>\n",
       "      <td>0.003604</td>\n",
       "      <td>0.218284</td>\n",
       "    </tr>\n",
       "  </tbody>\n",
       "</table>\n",
       "</div>"
      ],
      "text/plain": [
       "       21-A-x    21-A-y    21-A-z\n",
       "500 -0.984813  0.002748  0.219240\n",
       "501 -0.984486  0.000575  0.218403\n",
       "502 -0.983515  0.004386  0.220079\n",
       "503 -0.979746  0.003849  0.222048\n",
       "504 -0.982037  0.003604  0.218284"
      ]
     },
     "execution_count": 42,
     "metadata": {},
     "output_type": "execute_result"
    }
   ],
   "source": [
    "data_18_A = data.iloc[500:1400,330:333]\n",
    "data_18_A.head()"
   ]
  },
  {
   "cell_type": "code",
   "execution_count": 43,
   "metadata": {
    "Collapsed": "false"
   },
   "outputs": [],
   "source": [
    "data_18_A = data.iloc[500:1290,282:285].values\n",
    "data_5_A = data.iloc[500:1290,74:77].values\n",
    "data_21_A = data.iloc[500:1290,330:333].values"
   ]
  },
  {
   "cell_type": "code",
   "execution_count": 44,
   "metadata": {
    "Collapsed": "false"
   },
   "outputs": [],
   "source": [
    "angle_rad_neck, angle_neck = acc_to_angle(data_18_A)\n",
    "angle_rad_right_up_leg, angle_right_up_leg = acc_to_angle(data_5_A)\n",
    "angle_rad_trunk, angle_trunk = acc_to_angle(data_21_A)\n"
   ]
  },
  {
   "cell_type": "code",
   "execution_count": 45,
   "metadata": {
    "Collapsed": "false"
   },
   "outputs": [
    {
     "data": {
      "text/plain": [
       "[<matplotlib.lines.Line2D at 0x23bae33c580>]"
      ]
     },
     "execution_count": 45,
     "metadata": {},
     "output_type": "execute_result"
    },
    {
     "data": {
      "image/png": "[encoded data removed]",
      "text/plain": [
       "<Figure size 432x288 with 3 Axes>"
      ]
     },
     "metadata": {
      "needs_background": "light"
     },
     "output_type": "display_data"
    }
   ],
   "source": [
    "fig, axs = plt.subplots(3, sharex=True, sharey=True)\n",
    "\n",
    "axs[0].plot(angle_rad_neck)\n",
    "axs[1].plot(angle_rad_right_up_leg)\n",
    "axs[2].plot(angle_rad_trunk)\n",
    "\n"
   ]
  },
  {
   "cell_type": "code",
   "execution_count": 46,
   "metadata": {
    "Collapsed": "false"
   },
   "outputs": [
    {
     "data": {
      "image/png": "[encoded data removed]",
      "text/plain": [
       "<Figure size 432x288 with 1 Axes>"
      ]
     },
     "metadata": {
      "needs_background": "light"
     },
     "output_type": "display_data"
    }
   ],
   "source": [
    "plt.subplot(111)\n",
    "\n",
    "plt.plot(angle_neck, label = 'Neck')\n",
    "plt.plot(angle_right_up_leg, label = 'Up Leg')\n",
    "plt.plot(angle_trunk, label = 'Trunk')\n",
    "\n",
    "plt.legend()\n",
    "\n",
    "plt.grid()\n",
    "plt.show()"
   ]
  },
  {
   "cell_type": "code",
   "execution_count": null,
   "metadata": {
    "Collapsed": "false"
   },
   "outputs": [],
   "source": []
  },
  {
   "cell_type": "code",
   "execution_count": null,
   "metadata": {
    "Collapsed": "false"
   },
   "outputs": [],
   "source": []
  }
 ],
 "metadata": {
  "kernelspec": {
   "display_name": "Python 3",
   "language": "python",
   "name": "python3"
  },
  "language_info": {
   "codemirror_mode": {
    "name": "ipython",
    "version": 3
   },
   "file_extension": ".py",
   "mimetype": "text/x-python",
   "name": "python",
   "nbconvert_exporter": "python",
   "pygments_lexer": "ipython3",
   "version": "3.9.1"
  }
 },
 "nbformat": 4,
 "nbformat_minor": 4
}
